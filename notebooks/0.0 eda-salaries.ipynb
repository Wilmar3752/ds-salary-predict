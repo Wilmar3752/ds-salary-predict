{
 "cells": [
  {
   "attachments": {},
   "cell_type": "markdown",
   "metadata": {},
   "source": [
    "# Exloratory Data Analysis for Data Science Salaries in 2023"
   ]
  },
  {
   "cell_type": "code",
   "execution_count": 2,
   "metadata": {},
   "outputs": [],
   "source": [
    "import numpy as np\n",
    "import pandas as pd\n",
    "import polars as pl"
   ]
  },
  {
   "cell_type": "code",
   "execution_count": 40,
   "metadata": {},
   "outputs": [
    {
     "name": "stdout",
     "output_type": "stream",
     "text": [
      "(3755, 11)\n"
     ]
    },
    {
     "data": {
      "text/html": [
       "<div><style>\n",
       ".dataframe > thead > tr > th,\n",
       ".dataframe > tbody > tr > td {\n",
       "  text-align: right;\n",
       "}\n",
       "</style>\n",
       "<small>shape: (5, 11)</small><table border=\"1\" class=\"dataframe\"><thead><tr><th>work_year</th><th>experience_level</th><th>employment_type</th><th>job_title</th><th>salary</th><th>salary_currency</th><th>salary_in_usd</th><th>employee_residence</th><th>remote_ratio</th><th>company_location</th><th>company_size</th></tr><tr><td>i64</td><td>str</td><td>str</td><td>str</td><td>i64</td><td>str</td><td>i64</td><td>str</td><td>i64</td><td>str</td><td>str</td></tr></thead><tbody><tr><td>2023</td><td>&quot;SE&quot;</td><td>&quot;FT&quot;</td><td>&quot;Principal Data…</td><td>80000</td><td>&quot;EUR&quot;</td><td>85847</td><td>&quot;ES&quot;</td><td>100</td><td>&quot;ES&quot;</td><td>&quot;L&quot;</td></tr><tr><td>2023</td><td>&quot;MI&quot;</td><td>&quot;CT&quot;</td><td>&quot;ML Engineer&quot;</td><td>30000</td><td>&quot;USD&quot;</td><td>30000</td><td>&quot;US&quot;</td><td>100</td><td>&quot;US&quot;</td><td>&quot;S&quot;</td></tr><tr><td>2023</td><td>&quot;MI&quot;</td><td>&quot;CT&quot;</td><td>&quot;ML Engineer&quot;</td><td>25500</td><td>&quot;USD&quot;</td><td>25500</td><td>&quot;US&quot;</td><td>100</td><td>&quot;US&quot;</td><td>&quot;S&quot;</td></tr><tr><td>2023</td><td>&quot;SE&quot;</td><td>&quot;FT&quot;</td><td>&quot;Data Scientist…</td><td>175000</td><td>&quot;USD&quot;</td><td>175000</td><td>&quot;CA&quot;</td><td>100</td><td>&quot;CA&quot;</td><td>&quot;M&quot;</td></tr><tr><td>2023</td><td>&quot;SE&quot;</td><td>&quot;FT&quot;</td><td>&quot;Data Scientist…</td><td>120000</td><td>&quot;USD&quot;</td><td>120000</td><td>&quot;CA&quot;</td><td>100</td><td>&quot;CA&quot;</td><td>&quot;M&quot;</td></tr></tbody></table></div>"
      ],
      "text/plain": [
       "shape: (5, 11)\n",
       "┌─────────┬────────────┬────────────┬─────────┬───┬────────────┬────────────┬────────────┬────────────┐\n",
       "│ work_ye ┆ experience ┆ employment ┆ job_tit ┆ … ┆ employee_r ┆ remote_rat ┆ company_lo ┆ company_si │\n",
       "│ ar      ┆ _level     ┆ _type      ┆ le      ┆   ┆ esidence   ┆ io         ┆ cation     ┆ ze         │\n",
       "│ ---     ┆ ---        ┆ ---        ┆ ---     ┆   ┆ ---        ┆ ---        ┆ ---        ┆ ---        │\n",
       "│ i64     ┆ str        ┆ str        ┆ str     ┆   ┆ str        ┆ i64        ┆ str        ┆ str        │\n",
       "╞═════════╪════════════╪════════════╪═════════╪═══╪════════════╪════════════╪════════════╪════════════╡\n",
       "│ 2023    ┆ SE         ┆ FT         ┆ Princip ┆ … ┆ ES         ┆ 100        ┆ ES         ┆ L          │\n",
       "│         ┆            ┆            ┆ al Data ┆   ┆            ┆            ┆            ┆            │\n",
       "│         ┆            ┆            ┆ Scienti ┆   ┆            ┆            ┆            ┆            │\n",
       "│         ┆            ┆            ┆ st      ┆   ┆            ┆            ┆            ┆            │\n",
       "│ 2023    ┆ MI         ┆ CT         ┆ ML Engi ┆ … ┆ US         ┆ 100        ┆ US         ┆ S          │\n",
       "│         ┆            ┆            ┆ neer    ┆   ┆            ┆            ┆            ┆            │\n",
       "│ 2023    ┆ MI         ┆ CT         ┆ ML Engi ┆ … ┆ US         ┆ 100        ┆ US         ┆ S          │\n",
       "│         ┆            ┆            ┆ neer    ┆   ┆            ┆            ┆            ┆            │\n",
       "│ 2023    ┆ SE         ┆ FT         ┆ Data    ┆ … ┆ CA         ┆ 100        ┆ CA         ┆ M          │\n",
       "│         ┆            ┆            ┆ Scienti ┆   ┆            ┆            ┆            ┆            │\n",
       "│         ┆            ┆            ┆ st      ┆   ┆            ┆            ┆            ┆            │\n",
       "│ 2023    ┆ SE         ┆ FT         ┆ Data    ┆ … ┆ CA         ┆ 100        ┆ CA         ┆ M          │\n",
       "│         ┆            ┆            ┆ Scienti ┆   ┆            ┆            ┆            ┆            │\n",
       "│         ┆            ┆            ┆ st      ┆   ┆            ┆            ┆            ┆            │\n",
       "└─────────┴────────────┴────────────┴─────────┴───┴────────────┴────────────┴────────────┴────────────┘"
      ]
     },
     "execution_count": 40,
     "metadata": {},
     "output_type": "execute_result"
    }
   ],
   "source": [
    "salary_data = pl.read_csv('./../data/raw/ds_salaries.csv')\n",
    "print(salary_data.shape)\n",
    "salary_data.head()"
   ]
  },
  {
   "attachments": {},
   "cell_type": "markdown",
   "metadata": {},
   "source": [
    "## Experience Level\n",
    "There's 4 categorical values in column 'Experience Level', each are:\n",
    "\n",
    "- EN, which refers to Entry-level / Junior.\n",
    "\n",
    "- MI, which refers to Mid-level / Intermediate.\n",
    "\n",
    "- SE, which refers to Senior-level / Expert.\n",
    "\n",
    "- EX, which refers to Executive-level / Director.\n"
   ]
  },
  {
   "cell_type": "code",
   "execution_count": 41,
   "metadata": {},
   "outputs": [
    {
     "data": {
      "text/html": [
       "<div><style>\n",
       ".dataframe > thead > tr > th,\n",
       ".dataframe > tbody > tr > td {\n",
       "  text-align: right;\n",
       "}\n",
       "</style>\n",
       "<small>shape: (4, 2)</small><table border=\"1\" class=\"dataframe\"><thead><tr><th>experience_level</th><th>counts</th></tr><tr><td>str</td><td>u32</td></tr></thead><tbody><tr><td>&quot;Senior-level/E…</td><td>2516</td></tr><tr><td>&quot;Mid-level/Inte…</td><td>805</td></tr><tr><td>&quot;Entry-level/Ju…</td><td>320</td></tr><tr><td>&quot;Executive-leve…</td><td>114</td></tr></tbody></table></div>"
      ],
      "text/plain": [
       "shape: (4, 2)\n",
       "┌──────────────────────────┬────────┐\n",
       "│ experience_level         ┆ counts │\n",
       "│ ---                      ┆ ---    │\n",
       "│ str                      ┆ u32    │\n",
       "╞══════════════════════════╪════════╡\n",
       "│ Senior-level/Expert      ┆ 2516   │\n",
       "│ Mid-level/Intermediate   ┆ 805    │\n",
       "│ Entry-level/Junior       ┆ 320    │\n",
       "│ Executive-level/Director ┆ 114    │\n",
       "└──────────────────────────┴────────┘"
      ]
     },
     "execution_count": 41,
     "metadata": {},
     "output_type": "execute_result"
    }
   ],
   "source": [
    "## Mapper and value counts\n",
    "experience_level_dict = {\n",
    "    'EN':'Entry-level/Junior',\n",
    "    'MI':'Mid-level/Intermediate',\n",
    "    'SE':'Senior-level/Expert',\n",
    "    'EX':'Executive-level/Director'\n",
    "}\n",
    "salary_data = salary_data.with_columns(salary_data['experience_level'].map_dict(experience_level_dict))\n",
    "salary_data['experience_level'].value_counts().sort(by='counts', descending=True)"
   ]
  },
  {
   "cell_type": "code",
   "execution_count": 53,
   "metadata": {},
   "outputs": [
    {
     "data": {
      "text/html": [
       "<div><style>\n",
       ".dataframe > thead > tr > th,\n",
       ".dataframe > tbody > tr > td {\n",
       "  text-align: right;\n",
       "}\n",
       "</style>\n",
       "<small>shape: (4, 2)</small><table border=\"1\" class=\"dataframe\"><thead><tr><th>experience_level</th><th>salary</th></tr><tr><td>str</td><td>f64</td></tr></thead><tbody><tr><td>&quot;Mid-level/Inte…</td><td>248200.306832</td></tr><tr><td>&quot;Senior-level/E…</td><td>170048.965421</td></tr><tr><td>&quot;Entry-level/Ju…</td><td>188381.178125</td></tr><tr><td>&quot;Executive-leve…</td><td>246802.201754</td></tr></tbody></table></div>"
      ],
      "text/plain": [
       "shape: (4, 2)\n",
       "┌──────────────────────────┬───────────────┐\n",
       "│ experience_level         ┆ salary        │\n",
       "│ ---                      ┆ ---           │\n",
       "│ str                      ┆ f64           │\n",
       "╞══════════════════════════╪═══════════════╡\n",
       "│ Mid-level/Intermediate   ┆ 248200.306832 │\n",
       "│ Senior-level/Expert      ┆ 170048.965421 │\n",
       "│ Entry-level/Junior       ┆ 188381.178125 │\n",
       "│ Executive-level/Director ┆ 246802.201754 │\n",
       "└──────────────────────────┴───────────────┘"
      ]
     },
     "execution_count": 53,
     "metadata": {},
     "output_type": "execute_result"
    }
   ],
   "source": [
    "## Group by sintaxis\n",
    "salary_data.groupby(by='experience_level').agg(pl.col('salary').mean())"
   ]
  },
  {
   "cell_type": "code",
   "execution_count": 58,
   "metadata": {},
   "outputs": [
    {
     "data": {
      "text/html": [
       "<div><style>\n",
       ".dataframe > thead > tr > th,\n",
       ".dataframe > tbody > tr > td {\n",
       "  text-align: right;\n",
       "}\n",
       "</style>\n",
       "<small>shape: (4, 11)</small><table border=\"1\" class=\"dataframe\"><thead><tr><th>work_year</th><th>experience_level</th><th>employment_type</th><th>job_title</th><th>salary</th><th>salary_currency</th><th>salary_in_usd</th><th>employee_residence</th><th>remote_ratio</th><th>company_location</th><th>company_size</th></tr><tr><td>i64</td><td>str</td><td>str</td><td>str</td><td>i64</td><td>str</td><td>i64</td><td>str</td><td>i64</td><td>str</td><td>str</td></tr></thead><tbody><tr><td>2023</td><td>&quot;Senior-level/E…</td><td>&quot;FT&quot;</td><td>&quot;Data Manager&quot;</td><td>65000</td><td>&quot;USD&quot;</td><td>65000</td><td>&quot;CO&quot;</td><td>0</td><td>&quot;CO&quot;</td><td>&quot;M&quot;</td></tr><tr><td>2023</td><td>&quot;Senior-level/E…</td><td>&quot;FT&quot;</td><td>&quot;Data Manager&quot;</td><td>48000</td><td>&quot;USD&quot;</td><td>48000</td><td>&quot;CO&quot;</td><td>0</td><td>&quot;CO&quot;</td><td>&quot;M&quot;</td></tr><tr><td>2022</td><td>&quot;Senior-level/E…</td><td>&quot;FT&quot;</td><td>&quot;AI Scientist&quot;</td><td>125000</td><td>&quot;USD&quot;</td><td>125000</td><td>&quot;CO&quot;</td><td>100</td><td>&quot;CO&quot;</td><td>&quot;L&quot;</td></tr><tr><td>2021</td><td>&quot;Entry-level/Ju…</td><td>&quot;FT&quot;</td><td>&quot;Machine Learni…</td><td>21844</td><td>&quot;USD&quot;</td><td>21844</td><td>&quot;CO&quot;</td><td>50</td><td>&quot;CO&quot;</td><td>&quot;M&quot;</td></tr></tbody></table></div>"
      ],
      "text/plain": [
       "shape: (4, 11)\n",
       "┌─────────┬────────────┬────────────┬─────────┬───┬────────────┬────────────┬────────────┬────────────┐\n",
       "│ work_ye ┆ experience ┆ employment ┆ job_tit ┆ … ┆ employee_r ┆ remote_rat ┆ company_lo ┆ company_si │\n",
       "│ ar      ┆ _level     ┆ _type      ┆ le      ┆   ┆ esidence   ┆ io         ┆ cation     ┆ ze         │\n",
       "│ ---     ┆ ---        ┆ ---        ┆ ---     ┆   ┆ ---        ┆ ---        ┆ ---        ┆ ---        │\n",
       "│ i64     ┆ str        ┆ str        ┆ str     ┆   ┆ str        ┆ i64        ┆ str        ┆ str        │\n",
       "╞═════════╪════════════╪════════════╪═════════╪═══╪════════════╪════════════╪════════════╪════════════╡\n",
       "│ 2023    ┆ Senior-lev ┆ FT         ┆ Data    ┆ … ┆ CO         ┆ 0          ┆ CO         ┆ M          │\n",
       "│         ┆ el/Expert  ┆            ┆ Manager ┆   ┆            ┆            ┆            ┆            │\n",
       "│ 2023    ┆ Senior-lev ┆ FT         ┆ Data    ┆ … ┆ CO         ┆ 0          ┆ CO         ┆ M          │\n",
       "│         ┆ el/Expert  ┆            ┆ Manager ┆   ┆            ┆            ┆            ┆            │\n",
       "│ 2022    ┆ Senior-lev ┆ FT         ┆ AI Scie ┆ … ┆ CO         ┆ 100        ┆ CO         ┆ L          │\n",
       "│         ┆ el/Expert  ┆            ┆ ntist   ┆   ┆            ┆            ┆            ┆            │\n",
       "│ 2021    ┆ Entry-leve ┆ FT         ┆ Machine ┆ … ┆ CO         ┆ 50         ┆ CO         ┆ M          │\n",
       "│         ┆ l/Junior   ┆            ┆ Learnin ┆   ┆            ┆            ┆            ┆            │\n",
       "│         ┆            ┆            ┆ g Engin ┆   ┆            ┆            ┆            ┆            │\n",
       "│         ┆            ┆            ┆ eer     ┆   ┆            ┆            ┆            ┆            │\n",
       "└─────────┴────────────┴────────────┴─────────┴───┴────────────┴────────────┴────────────┴────────────┘"
      ]
     },
     "execution_count": 58,
     "metadata": {},
     "output_type": "execute_result"
    }
   ],
   "source": [
    "## Filter all in Colombia\n",
    "salary_data.filter((pl.col('employee_residence'))=='CO')"
   ]
  }
 ],
 "metadata": {
  "kernelspec": {
   "display_name": "salary",
   "language": "python",
   "name": "python3"
  },
  "language_info": {
   "codemirror_mode": {
    "name": "ipython",
    "version": 3
   },
   "file_extension": ".py",
   "mimetype": "text/x-python",
   "name": "python",
   "nbconvert_exporter": "python",
   "pygments_lexer": "ipython3",
   "version": "3.10.11"
  },
  "orig_nbformat": 4,
  "vscode": {
   "interpreter": {
    "hash": "6439a59ccbef1e798ba20dda1e08548cbec8bcaa5b2d23c548359dec22e90854"
   }
  }
 },
 "nbformat": 4,
 "nbformat_minor": 2
}
