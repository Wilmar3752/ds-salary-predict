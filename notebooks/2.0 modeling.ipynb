{
 "cells": [
  {
   "cell_type": "code",
   "execution_count": 51,
   "metadata": {},
   "outputs": [
    {
     "name": "stdout",
     "output_type": "stream",
     "text": [
      "The autoreload extension is already loaded. To reload it, use:\n",
      "  %reload_ext autoreload\n"
     ]
    }
   ],
   "source": [
    "%load_ext autoreload\n",
    "%autoreload 2\n",
    "import pandas as pd\n",
    "from feature_engine.encoding import RareLabelEncoder, OrdinalEncoder\n",
    "from sklearn.pipeline import Pipeline\n",
    "from utils import ScalerDf, split_data\n",
    "from pycaret.classification import *"
   ]
  },
  {
   "cell_type": "code",
   "execution_count": 52,
   "metadata": {},
   "outputs": [
    {
     "ename": "ValueError",
     "evalue": "Only callable can be used as callback",
     "output_type": "error",
     "traceback": [
      "\u001b[0;31m---------------------------------------------------------------------------\u001b[0m",
      "\u001b[0;31mValueError\u001b[0m                                Traceback (most recent call last)",
      "Cell \u001b[0;32mIn[52], line 1\u001b[0m\n\u001b[0;32m----> 1\u001b[0m salary_data \u001b[39m=\u001b[39m pd\u001b[39m.\u001b[39;49mread_csv(\u001b[39m'\u001b[39;49m\u001b[39m./../data/raw/ds_salaries.csv\u001b[39;49m\u001b[39m'\u001b[39;49m)\n",
      "File \u001b[0;32m~/anaconda3/envs/salary/lib/python3.10/site-packages/pandas/util/_decorators.py:211\u001b[0m, in \u001b[0;36mdeprecate_kwarg.<locals>._deprecate_kwarg.<locals>.wrapper\u001b[0;34m(*args, **kwargs)\u001b[0m\n\u001b[1;32m    209\u001b[0m     \u001b[39melse\u001b[39;00m:\n\u001b[1;32m    210\u001b[0m         kwargs[new_arg_name] \u001b[39m=\u001b[39m new_arg_value\n\u001b[0;32m--> 211\u001b[0m \u001b[39mreturn\u001b[39;00m func(\u001b[39m*\u001b[39;49margs, \u001b[39m*\u001b[39;49m\u001b[39m*\u001b[39;49mkwargs)\n",
      "File \u001b[0;32m~/anaconda3/envs/salary/lib/python3.10/site-packages/pandas/util/_decorators.py:331\u001b[0m, in \u001b[0;36mdeprecate_nonkeyword_arguments.<locals>.decorate.<locals>.wrapper\u001b[0;34m(*args, **kwargs)\u001b[0m\n\u001b[1;32m    325\u001b[0m \u001b[39mif\u001b[39;00m \u001b[39mlen\u001b[39m(args) \u001b[39m>\u001b[39m num_allow_args:\n\u001b[1;32m    326\u001b[0m     warnings\u001b[39m.\u001b[39mwarn(\n\u001b[1;32m    327\u001b[0m         msg\u001b[39m.\u001b[39mformat(arguments\u001b[39m=\u001b[39m_format_argument_list(allow_args)),\n\u001b[1;32m    328\u001b[0m         \u001b[39mFutureWarning\u001b[39;00m,\n\u001b[1;32m    329\u001b[0m         stacklevel\u001b[39m=\u001b[39mfind_stack_level(),\n\u001b[1;32m    330\u001b[0m     )\n\u001b[0;32m--> 331\u001b[0m \u001b[39mreturn\u001b[39;00m func(\u001b[39m*\u001b[39;49margs, \u001b[39m*\u001b[39;49m\u001b[39m*\u001b[39;49mkwargs)\n",
      "File \u001b[0;32m~/anaconda3/envs/salary/lib/python3.10/site-packages/pandas/io/parsers/readers.py:950\u001b[0m, in \u001b[0;36mread_csv\u001b[0;34m(filepath_or_buffer, sep, delimiter, header, names, index_col, usecols, squeeze, prefix, mangle_dupe_cols, dtype, engine, converters, true_values, false_values, skipinitialspace, skiprows, skipfooter, nrows, na_values, keep_default_na, na_filter, verbose, skip_blank_lines, parse_dates, infer_datetime_format, keep_date_col, date_parser, dayfirst, cache_dates, iterator, chunksize, compression, thousands, decimal, lineterminator, quotechar, quoting, doublequote, escapechar, comment, encoding, encoding_errors, dialect, error_bad_lines, warn_bad_lines, on_bad_lines, delim_whitespace, low_memory, memory_map, float_precision, storage_options)\u001b[0m\n\u001b[1;32m    935\u001b[0m kwds_defaults \u001b[39m=\u001b[39m _refine_defaults_read(\n\u001b[1;32m    936\u001b[0m     dialect,\n\u001b[1;32m    937\u001b[0m     delimiter,\n\u001b[0;32m   (...)\u001b[0m\n\u001b[1;32m    946\u001b[0m     defaults\u001b[39m=\u001b[39m{\u001b[39m\"\u001b[39m\u001b[39mdelimiter\u001b[39m\u001b[39m\"\u001b[39m: \u001b[39m\"\u001b[39m\u001b[39m,\u001b[39m\u001b[39m\"\u001b[39m},\n\u001b[1;32m    947\u001b[0m )\n\u001b[1;32m    948\u001b[0m kwds\u001b[39m.\u001b[39mupdate(kwds_defaults)\n\u001b[0;32m--> 950\u001b[0m \u001b[39mreturn\u001b[39;00m _read(filepath_or_buffer, kwds)\n",
      "File \u001b[0;32m~/anaconda3/envs/salary/lib/python3.10/site-packages/pandas/io/parsers/readers.py:611\u001b[0m, in \u001b[0;36m_read\u001b[0;34m(filepath_or_buffer, kwds)\u001b[0m\n\u001b[1;32m    608\u001b[0m     \u001b[39mreturn\u001b[39;00m parser\n\u001b[1;32m    610\u001b[0m \u001b[39mwith\u001b[39;00m parser:\n\u001b[0;32m--> 611\u001b[0m     \u001b[39mreturn\u001b[39;00m parser\u001b[39m.\u001b[39;49mread(nrows)\n",
      "File \u001b[0;32m~/anaconda3/envs/salary/lib/python3.10/site-packages/pandas/io/parsers/readers.py:1795\u001b[0m, in \u001b[0;36mTextFileReader.read\u001b[0;34m(self, nrows)\u001b[0m\n\u001b[1;32m   1792\u001b[0m     \u001b[39melse\u001b[39;00m:\n\u001b[1;32m   1793\u001b[0m         new_rows \u001b[39m=\u001b[39m \u001b[39mlen\u001b[39m(index)\n\u001b[0;32m-> 1795\u001b[0m     df \u001b[39m=\u001b[39m DataFrame(col_dict, columns\u001b[39m=\u001b[39;49mcolumns, index\u001b[39m=\u001b[39;49mindex)\n\u001b[1;32m   1797\u001b[0m     \u001b[39mself\u001b[39m\u001b[39m.\u001b[39m_currow \u001b[39m+\u001b[39m\u001b[39m=\u001b[39m new_rows\n\u001b[1;32m   1799\u001b[0m \u001b[39mif\u001b[39;00m \u001b[39mself\u001b[39m\u001b[39m.\u001b[39msqueeze \u001b[39mand\u001b[39;00m \u001b[39mlen\u001b[39m(df\u001b[39m.\u001b[39mcolumns) \u001b[39m==\u001b[39m \u001b[39m1\u001b[39m:\n",
      "File \u001b[0;32m~/anaconda3/envs/salary/lib/python3.10/site-packages/pandas/core/frame.py:664\u001b[0m, in \u001b[0;36mDataFrame.__init__\u001b[0;34m(self, data, index, columns, dtype, copy)\u001b[0m\n\u001b[1;32m    658\u001b[0m     mgr \u001b[39m=\u001b[39m \u001b[39mself\u001b[39m\u001b[39m.\u001b[39m_init_mgr(\n\u001b[1;32m    659\u001b[0m         data, axes\u001b[39m=\u001b[39m{\u001b[39m\"\u001b[39m\u001b[39mindex\u001b[39m\u001b[39m\"\u001b[39m: index, \u001b[39m\"\u001b[39m\u001b[39mcolumns\u001b[39m\u001b[39m\"\u001b[39m: columns}, dtype\u001b[39m=\u001b[39mdtype, copy\u001b[39m=\u001b[39mcopy\n\u001b[1;32m    660\u001b[0m     )\n\u001b[1;32m    662\u001b[0m \u001b[39melif\u001b[39;00m \u001b[39misinstance\u001b[39m(data, \u001b[39mdict\u001b[39m):\n\u001b[1;32m    663\u001b[0m     \u001b[39m# GH#38939 de facto copy defaults to False only in non-dict cases\u001b[39;00m\n\u001b[0;32m--> 664\u001b[0m     mgr \u001b[39m=\u001b[39m dict_to_mgr(data, index, columns, dtype\u001b[39m=\u001b[39;49mdtype, copy\u001b[39m=\u001b[39;49mcopy, typ\u001b[39m=\u001b[39;49mmanager)\n\u001b[1;32m    665\u001b[0m \u001b[39melif\u001b[39;00m \u001b[39misinstance\u001b[39m(data, ma\u001b[39m.\u001b[39mMaskedArray):\n\u001b[1;32m    666\u001b[0m     \u001b[39mimport\u001b[39;00m \u001b[39mnumpy\u001b[39;00m\u001b[39m.\u001b[39;00m\u001b[39mma\u001b[39;00m\u001b[39m.\u001b[39;00m\u001b[39mmrecords\u001b[39;00m \u001b[39mas\u001b[39;00m \u001b[39mmrecords\u001b[39;00m\n",
      "File \u001b[0;32m~/anaconda3/envs/salary/lib/python3.10/site-packages/pandas/core/internals/construction.py:453\u001b[0m, in \u001b[0;36mdict_to_mgr\u001b[0;34m(data, index, columns, dtype, typ, copy)\u001b[0m\n\u001b[1;32m    450\u001b[0m     index \u001b[39m=\u001b[39m ensure_index(index)\n\u001b[1;32m    452\u001b[0m \u001b[39m# no obvious \"empty\" int column\u001b[39;00m\n\u001b[0;32m--> 453\u001b[0m \u001b[39mif\u001b[39;00m missing\u001b[39m.\u001b[39;49many() \u001b[39mand\u001b[39;00m \u001b[39mnot\u001b[39;00m is_integer_dtype(dtype):\n\u001b[1;32m    454\u001b[0m     nan_dtype: DtypeObj\n\u001b[1;32m    456\u001b[0m     \u001b[39mif\u001b[39;00m dtype \u001b[39mis\u001b[39;00m \u001b[39mnot\u001b[39;00m \u001b[39mNone\u001b[39;00m:\n\u001b[1;32m    457\u001b[0m         \u001b[39m# calling sanitize_array ensures we don't mix-and-match\u001b[39;00m\n\u001b[1;32m    458\u001b[0m         \u001b[39m#  NA dtypes\u001b[39;00m\n",
      "File \u001b[0;32m~/anaconda3/envs/salary/lib/python3.10/site-packages/pandas/util/_decorators.py:331\u001b[0m, in \u001b[0;36mdeprecate_nonkeyword_arguments.<locals>.decorate.<locals>.wrapper\u001b[0;34m(*args, **kwargs)\u001b[0m\n\u001b[1;32m    325\u001b[0m \u001b[39mif\u001b[39;00m \u001b[39mlen\u001b[39m(args) \u001b[39m>\u001b[39m num_allow_args:\n\u001b[1;32m    326\u001b[0m     warnings\u001b[39m.\u001b[39mwarn(\n\u001b[1;32m    327\u001b[0m         msg\u001b[39m.\u001b[39mformat(arguments\u001b[39m=\u001b[39m_format_argument_list(allow_args)),\n\u001b[1;32m    328\u001b[0m         \u001b[39mFutureWarning\u001b[39;00m,\n\u001b[1;32m    329\u001b[0m         stacklevel\u001b[39m=\u001b[39mfind_stack_level(),\n\u001b[1;32m    330\u001b[0m     )\n\u001b[0;32m--> 331\u001b[0m \u001b[39mreturn\u001b[39;00m func(\u001b[39m*\u001b[39;49margs, \u001b[39m*\u001b[39;49m\u001b[39m*\u001b[39;49mkwargs)\n",
      "File \u001b[0;32m~/anaconda3/envs/salary/lib/python3.10/site-packages/pandas/core/generic.py:11614\u001b[0m, in \u001b[0;36mNDFrame._add_numeric_operations.<locals>.any\u001b[0;34m(self, axis, bool_only, skipna, level, **kwargs)\u001b[0m\n\u001b[1;32m  11598\u001b[0m \u001b[39m@deprecate_nonkeyword_arguments\u001b[39m(\n\u001b[1;32m  11599\u001b[0m     version\u001b[39m=\u001b[39m\u001b[39mNone\u001b[39;00m,\n\u001b[1;32m  11600\u001b[0m     allowed_args\u001b[39m=\u001b[39m[\u001b[39m\"\u001b[39m\u001b[39mself\u001b[39m\u001b[39m\"\u001b[39m],\n\u001b[0;32m   (...)\u001b[0m\n\u001b[1;32m  11612\u001b[0m )\n\u001b[1;32m  11613\u001b[0m \u001b[39mdef\u001b[39;00m \u001b[39many\u001b[39m(\u001b[39mself\u001b[39m, axis\u001b[39m=\u001b[39m\u001b[39m0\u001b[39m, bool_only\u001b[39m=\u001b[39m\u001b[39mNone\u001b[39;00m, skipna\u001b[39m=\u001b[39m\u001b[39mTrue\u001b[39;00m, level\u001b[39m=\u001b[39m\u001b[39mNone\u001b[39;00m, \u001b[39m*\u001b[39m\u001b[39m*\u001b[39mkwargs):\n\u001b[0;32m> 11614\u001b[0m     \u001b[39mreturn\u001b[39;00m NDFrame\u001b[39m.\u001b[39;49many(\u001b[39mself\u001b[39;49m, axis, bool_only, skipna, level, \u001b[39m*\u001b[39;49m\u001b[39m*\u001b[39;49mkwargs)\n",
      "File \u001b[0;32m~/anaconda3/envs/salary/lib/python3.10/site-packages/pandas/core/generic.py:11174\u001b[0m, in \u001b[0;36mNDFrame.any\u001b[0;34m(self, axis, bool_only, skipna, level, **kwargs)\u001b[0m\n\u001b[1;32m  11166\u001b[0m \u001b[39mdef\u001b[39;00m \u001b[39many\u001b[39m(\n\u001b[1;32m  11167\u001b[0m     \u001b[39mself\u001b[39m,\n\u001b[1;32m  11168\u001b[0m     axis: Axis \u001b[39m=\u001b[39m \u001b[39m0\u001b[39m,\n\u001b[0;32m   (...)\u001b[0m\n\u001b[1;32m  11172\u001b[0m     \u001b[39m*\u001b[39m\u001b[39m*\u001b[39mkwargs,\n\u001b[1;32m  11173\u001b[0m ) \u001b[39m-\u001b[39m\u001b[39m>\u001b[39m DataFrame \u001b[39m|\u001b[39m Series \u001b[39m|\u001b[39m bool_t:\n\u001b[0;32m> 11174\u001b[0m     \u001b[39mreturn\u001b[39;00m \u001b[39mself\u001b[39;49m\u001b[39m.\u001b[39;49m_logical_func(\n\u001b[1;32m  11175\u001b[0m         \u001b[39m\"\u001b[39;49m\u001b[39many\u001b[39;49m\u001b[39m\"\u001b[39;49m, nanops\u001b[39m.\u001b[39;49mnanany, axis, bool_only, skipna, level, \u001b[39m*\u001b[39;49m\u001b[39m*\u001b[39;49mkwargs\n\u001b[1;32m  11176\u001b[0m     )\n",
      "File \u001b[0;32m~/anaconda3/envs/salary/lib/python3.10/site-packages/pandas/core/generic.py:11157\u001b[0m, in \u001b[0;36mNDFrame._logical_func\u001b[0;34m(self, name, func, axis, bool_only, skipna, level, **kwargs)\u001b[0m\n\u001b[1;32m  11154\u001b[0m         obj \u001b[39m=\u001b[39m \u001b[39mself\u001b[39m\u001b[39m.\u001b[39m_get_bool_data()\n\u001b[1;32m  11155\u001b[0m     \u001b[39mreturn\u001b[39;00m obj\u001b[39m.\u001b[39m_reduce_axis1(name, func, skipna\u001b[39m=\u001b[39mskipna)\n\u001b[0;32m> 11157\u001b[0m \u001b[39mreturn\u001b[39;00m \u001b[39mself\u001b[39;49m\u001b[39m.\u001b[39;49m_reduce(\n\u001b[1;32m  11158\u001b[0m     func,\n\u001b[1;32m  11159\u001b[0m     name\u001b[39m=\u001b[39;49mname,\n\u001b[1;32m  11160\u001b[0m     axis\u001b[39m=\u001b[39;49maxis,\n\u001b[1;32m  11161\u001b[0m     skipna\u001b[39m=\u001b[39;49mskipna,\n\u001b[1;32m  11162\u001b[0m     numeric_only\u001b[39m=\u001b[39;49mbool_only,\n\u001b[1;32m  11163\u001b[0m     filter_type\u001b[39m=\u001b[39;49m\u001b[39m\"\u001b[39;49m\u001b[39mbool\u001b[39;49m\u001b[39m\"\u001b[39;49m,\n\u001b[1;32m  11164\u001b[0m )\n",
      "File \u001b[0;32m~/anaconda3/envs/salary/lib/python3.10/site-packages/pandas/core/series.py:4815\u001b[0m, in \u001b[0;36mSeries._reduce\u001b[0;34m(self, op, name, axis, skipna, numeric_only, filter_type, **kwds)\u001b[0m\n\u001b[1;32m   4806\u001b[0m     warnings\u001b[39m.\u001b[39mwarn(\n\u001b[1;32m   4807\u001b[0m         \u001b[39mf\u001b[39m\u001b[39m\"\u001b[39m\u001b[39mCalling Series.\u001b[39m\u001b[39m{\u001b[39;00mname\u001b[39m}\u001b[39;00m\u001b[39m with \u001b[39m\u001b[39m{\u001b[39;00mkwd_name\u001b[39m}\u001b[39;00m\u001b[39m=\u001b[39m\u001b[39m{\u001b[39;00mnumeric_only\u001b[39m}\u001b[39;00m\u001b[39m and \u001b[39m\u001b[39m\"\u001b[39m\n\u001b[1;32m   4808\u001b[0m         \u001b[39mf\u001b[39m\u001b[39m\"\u001b[39m\u001b[39mdtype \u001b[39m\u001b[39m{\u001b[39;00m\u001b[39mself\u001b[39m\u001b[39m.\u001b[39mdtype\u001b[39m}\u001b[39;00m\u001b[39m will raise a TypeError in the future\u001b[39m\u001b[39m\"\u001b[39m,\n\u001b[1;32m   4809\u001b[0m         \u001b[39mFutureWarning\u001b[39;00m,\n\u001b[1;32m   4810\u001b[0m         stacklevel\u001b[39m=\u001b[39mfind_stack_level(),\n\u001b[1;32m   4811\u001b[0m     )\n\u001b[1;32m   4812\u001b[0m     \u001b[39mraise\u001b[39;00m \u001b[39mNotImplementedError\u001b[39;00m(\n\u001b[1;32m   4813\u001b[0m         \u001b[39mf\u001b[39m\u001b[39m\"\u001b[39m\u001b[39mSeries.\u001b[39m\u001b[39m{\u001b[39;00mname\u001b[39m}\u001b[39;00m\u001b[39m does not implement \u001b[39m\u001b[39m{\u001b[39;00mkwd_name\u001b[39m}\u001b[39;00m\u001b[39m.\u001b[39m\u001b[39m\"\u001b[39m\n\u001b[1;32m   4814\u001b[0m     )\n\u001b[0;32m-> 4815\u001b[0m \u001b[39mwith\u001b[39;00m np\u001b[39m.\u001b[39merrstate(\u001b[39mall\u001b[39m\u001b[39m=\u001b[39m\u001b[39m\"\u001b[39m\u001b[39mignore\u001b[39m\u001b[39m\"\u001b[39m):\n\u001b[1;32m   4816\u001b[0m     \u001b[39mreturn\u001b[39;00m op(delegate, skipna\u001b[39m=\u001b[39mskipna, \u001b[39m*\u001b[39m\u001b[39m*\u001b[39mkwds)\n",
      "File \u001b[0;32m~/anaconda3/envs/salary/lib/python3.10/site-packages/numpy/core/_ufunc_config.py:432\u001b[0m, in \u001b[0;36merrstate.__enter__\u001b[0;34m(self)\u001b[0m\n\u001b[1;32m    430\u001b[0m \u001b[39mself\u001b[39m\u001b[39m.\u001b[39moldstate \u001b[39m=\u001b[39m seterr(\u001b[39m*\u001b[39m\u001b[39m*\u001b[39m\u001b[39mself\u001b[39m\u001b[39m.\u001b[39mkwargs)\n\u001b[1;32m    431\u001b[0m \u001b[39mif\u001b[39;00m \u001b[39mself\u001b[39m\u001b[39m.\u001b[39mcall \u001b[39mis\u001b[39;00m \u001b[39mnot\u001b[39;00m _Unspecified:\n\u001b[0;32m--> 432\u001b[0m     \u001b[39mself\u001b[39m\u001b[39m.\u001b[39moldcall \u001b[39m=\u001b[39m seterrcall(\u001b[39mself\u001b[39;49m\u001b[39m.\u001b[39;49mcall)\n",
      "File \u001b[0;32m~/anaconda3/envs/salary/lib/python3.10/site-packages/numpy/core/_ufunc_config.py:305\u001b[0m, in \u001b[0;36mseterrcall\u001b[0;34m(func)\u001b[0m\n\u001b[1;32m    302\u001b[0m \u001b[39mif\u001b[39;00m func \u001b[39mis\u001b[39;00m \u001b[39mnot\u001b[39;00m \u001b[39mNone\u001b[39;00m \u001b[39mand\u001b[39;00m \u001b[39mnot\u001b[39;00m \u001b[39misinstance\u001b[39m(func, collections\u001b[39m.\u001b[39mabc\u001b[39m.\u001b[39mCallable):\n\u001b[1;32m    303\u001b[0m     \u001b[39mif\u001b[39;00m (\u001b[39mnot\u001b[39;00m \u001b[39mhasattr\u001b[39m(func, \u001b[39m'\u001b[39m\u001b[39mwrite\u001b[39m\u001b[39m'\u001b[39m) \u001b[39mor\u001b[39;00m\n\u001b[1;32m    304\u001b[0m             \u001b[39mnot\u001b[39;00m \u001b[39misinstance\u001b[39m(func\u001b[39m.\u001b[39mwrite, collections\u001b[39m.\u001b[39mabc\u001b[39m.\u001b[39mCallable)):\n\u001b[0;32m--> 305\u001b[0m         \u001b[39mraise\u001b[39;00m \u001b[39mValueError\u001b[39;00m(\u001b[39m\"\u001b[39m\u001b[39mOnly callable can be used as callback\u001b[39m\u001b[39m\"\u001b[39m)\n\u001b[1;32m    306\u001b[0m pyvals \u001b[39m=\u001b[39m umath\u001b[39m.\u001b[39mgeterrobj()\n\u001b[1;32m    307\u001b[0m old \u001b[39m=\u001b[39m geterrcall()\n",
      "\u001b[0;31mValueError\u001b[0m: Only callable can be used as callback"
     ]
    }
   ],
   "source": [
    "salary_data = pd.read_csv('./../data/raw/ds_salaries.csv')"
   ]
  },
  {
   "cell_type": "code",
   "execution_count": null,
   "metadata": {},
   "outputs": [],
   "source": [
    "quantiles = [0, 1/7, 2/7, 3/7, 4/7, 5/7, 6/7, 1]\n",
    "bin_edges = [salary_data['salary'].quantile(q) for q in quantiles]\n",
    "\n",
    "# Convert the continuous salary variable into 7 discrete bins based on quantiles\n",
    "salary_labels = ['low', 'low-mid', 'mid', 'mid-high', 'high', 'very-high', 'Top']\n",
    "salary_data['salary_range'] = pd.cut(salary_data['salary'], bins=bin_edges, labels=False, include_lowest=True)"
   ]
  },
  {
   "cell_type": "code",
   "execution_count": 38,
   "metadata": {},
   "outputs": [
    {
     "name": "stdout",
     "output_type": "stream",
     "text": [
      "(2253, 9)\n",
      "(751, 9)\n",
      "(751, 9)\n"
     ]
    }
   ],
   "source": [
    "X = salary_data.drop(columns=['salary', 'salary_in_usd', 'salary_range'])\n",
    "y = salary_data['salary_range']\n",
    "X_train, X_val, X_test, y_train, y_val, y_test = split_data(X, y, test_size=0.2, val_size=0.25, random_state=42)\n",
    "print(X_train.shape)\n",
    "print(X_test.shape)\n",
    "print(X_val.shape)"
   ]
  },
  {
   "cell_type": "code",
   "execution_count": 39,
   "metadata": {},
   "outputs": [],
   "source": [
    "# identifico variables numericas y categoricas\n",
    "categoric_columns = X.select_dtypes(exclude=['int', 'float']).columns.tolist()\n",
    "numeric_columns = X.select_dtypes(include=['int', 'float']).columns.tolist()"
   ]
  },
  {
   "cell_type": "code",
   "execution_count": 40,
   "metadata": {},
   "outputs": [],
   "source": [
    "preprocess_pipeline = [\n",
    "    ('rare_label_encoder', RareLabelEncoder(variables=categoric_columns, n_categories=1, tol=0.1)),\n",
    "    ('Ordinal_encoder',OrdinalEncoder(variables=categoric_columns, encoding_method='ordered')),\n",
    "    ('Scaler', ScalerDf(method='standard'))\n",
    "]\n",
    "salary_preprocess = Pipeline(preprocess_pipeline)"
   ]
  },
  {
   "cell_type": "code",
   "execution_count": 43,
   "metadata": {},
   "outputs": [
    {
     "data": {
      "text/plain": [
       "2643    0\n",
       "1655    2\n",
       "661     1\n",
       "1627    3\n",
       "143     5\n",
       "       ..\n",
       "1301    1\n",
       "1273    4\n",
       "311     2\n",
       "2358    6\n",
       "1822    5\n",
       "Name: salary_range, Length: 2253, dtype: Int64"
      ]
     },
     "execution_count": 43,
     "metadata": {},
     "output_type": "execute_result"
    }
   ],
   "source": [
    "y_train"
   ]
  },
  {
   "cell_type": "code",
   "execution_count": 44,
   "metadata": {},
   "outputs": [
    {
     "ename": "TypeError",
     "evalue": "BaseMaskedArray.all() takes 1 positional argument but 2 were given",
     "output_type": "error",
     "traceback": [
      "\u001b[0;31m---------------------------------------------------------------------------\u001b[0m",
      "\u001b[0;31mTypeError\u001b[0m                                 Traceback (most recent call last)",
      "Cell \u001b[0;32mIn[44], line 1\u001b[0m\n\u001b[0;32m----> 1\u001b[0m salary_preprocess\u001b[39m.\u001b[39;49mfit(X_train, y_train)\n",
      "File \u001b[0;32m~/anaconda3/envs/salary/lib/python3.10/site-packages/sklearn/pipeline.py:401\u001b[0m, in \u001b[0;36mPipeline.fit\u001b[0;34m(self, X, y, **fit_params)\u001b[0m\n\u001b[1;32m    375\u001b[0m \u001b[39m\u001b[39m\u001b[39m\"\"\"Fit the model.\u001b[39;00m\n\u001b[1;32m    376\u001b[0m \n\u001b[1;32m    377\u001b[0m \u001b[39mFit all the transformers one after the other and transform the\u001b[39;00m\n\u001b[0;32m   (...)\u001b[0m\n\u001b[1;32m    398\u001b[0m \u001b[39m    Pipeline with fitted steps.\u001b[39;00m\n\u001b[1;32m    399\u001b[0m \u001b[39m\"\"\"\u001b[39;00m\n\u001b[1;32m    400\u001b[0m fit_params_steps \u001b[39m=\u001b[39m \u001b[39mself\u001b[39m\u001b[39m.\u001b[39m_check_fit_params(\u001b[39m*\u001b[39m\u001b[39m*\u001b[39mfit_params)\n\u001b[0;32m--> 401\u001b[0m Xt \u001b[39m=\u001b[39m \u001b[39mself\u001b[39;49m\u001b[39m.\u001b[39;49m_fit(X, y, \u001b[39m*\u001b[39;49m\u001b[39m*\u001b[39;49mfit_params_steps)\n\u001b[1;32m    402\u001b[0m \u001b[39mwith\u001b[39;00m _print_elapsed_time(\u001b[39m\"\u001b[39m\u001b[39mPipeline\u001b[39m\u001b[39m\"\u001b[39m, \u001b[39mself\u001b[39m\u001b[39m.\u001b[39m_log_message(\u001b[39mlen\u001b[39m(\u001b[39mself\u001b[39m\u001b[39m.\u001b[39msteps) \u001b[39m-\u001b[39m \u001b[39m1\u001b[39m)):\n\u001b[1;32m    403\u001b[0m     \u001b[39mif\u001b[39;00m \u001b[39mself\u001b[39m\u001b[39m.\u001b[39m_final_estimator \u001b[39m!=\u001b[39m \u001b[39m\"\u001b[39m\u001b[39mpassthrough\u001b[39m\u001b[39m\"\u001b[39m:\n",
      "File \u001b[0;32m~/anaconda3/envs/salary/lib/python3.10/site-packages/sklearn/pipeline.py:359\u001b[0m, in \u001b[0;36mPipeline._fit\u001b[0;34m(self, X, y, **fit_params_steps)\u001b[0m\n\u001b[1;32m    357\u001b[0m     cloned_transformer \u001b[39m=\u001b[39m clone(transformer)\n\u001b[1;32m    358\u001b[0m \u001b[39m# Fit or load from cache the current transformer\u001b[39;00m\n\u001b[0;32m--> 359\u001b[0m X, fitted_transformer \u001b[39m=\u001b[39m fit_transform_one_cached(\n\u001b[1;32m    360\u001b[0m     cloned_transformer,\n\u001b[1;32m    361\u001b[0m     X,\n\u001b[1;32m    362\u001b[0m     y,\n\u001b[1;32m    363\u001b[0m     \u001b[39mNone\u001b[39;49;00m,\n\u001b[1;32m    364\u001b[0m     message_clsname\u001b[39m=\u001b[39;49m\u001b[39m\"\u001b[39;49m\u001b[39mPipeline\u001b[39;49m\u001b[39m\"\u001b[39;49m,\n\u001b[1;32m    365\u001b[0m     message\u001b[39m=\u001b[39;49m\u001b[39mself\u001b[39;49m\u001b[39m.\u001b[39;49m_log_message(step_idx),\n\u001b[1;32m    366\u001b[0m     \u001b[39m*\u001b[39;49m\u001b[39m*\u001b[39;49mfit_params_steps[name],\n\u001b[1;32m    367\u001b[0m )\n\u001b[1;32m    368\u001b[0m \u001b[39m# Replace the transformer of the step with the fitted\u001b[39;00m\n\u001b[1;32m    369\u001b[0m \u001b[39m# transformer. This is necessary when loading the transformer\u001b[39;00m\n\u001b[1;32m    370\u001b[0m \u001b[39m# from the cache.\u001b[39;00m\n\u001b[1;32m    371\u001b[0m \u001b[39mself\u001b[39m\u001b[39m.\u001b[39msteps[step_idx] \u001b[39m=\u001b[39m (name, fitted_transformer)\n",
      "File \u001b[0;32m~/anaconda3/envs/salary/lib/python3.10/site-packages/joblib/memory.py:349\u001b[0m, in \u001b[0;36mNotMemorizedFunc.__call__\u001b[0;34m(self, *args, **kwargs)\u001b[0m\n\u001b[1;32m    348\u001b[0m \u001b[39mdef\u001b[39;00m \u001b[39m__call__\u001b[39m(\u001b[39mself\u001b[39m, \u001b[39m*\u001b[39margs, \u001b[39m*\u001b[39m\u001b[39m*\u001b[39mkwargs):\n\u001b[0;32m--> 349\u001b[0m     \u001b[39mreturn\u001b[39;00m \u001b[39mself\u001b[39;49m\u001b[39m.\u001b[39;49mfunc(\u001b[39m*\u001b[39;49margs, \u001b[39m*\u001b[39;49m\u001b[39m*\u001b[39;49mkwargs)\n",
      "File \u001b[0;32m~/anaconda3/envs/salary/lib/python3.10/site-packages/sklearn/pipeline.py:893\u001b[0m, in \u001b[0;36m_fit_transform_one\u001b[0;34m(transformer, X, y, weight, message_clsname, message, **fit_params)\u001b[0m\n\u001b[1;32m    891\u001b[0m \u001b[39mwith\u001b[39;00m _print_elapsed_time(message_clsname, message):\n\u001b[1;32m    892\u001b[0m     \u001b[39mif\u001b[39;00m \u001b[39mhasattr\u001b[39m(transformer, \u001b[39m\"\u001b[39m\u001b[39mfit_transform\u001b[39m\u001b[39m\"\u001b[39m):\n\u001b[0;32m--> 893\u001b[0m         res \u001b[39m=\u001b[39m transformer\u001b[39m.\u001b[39;49mfit_transform(X, y, \u001b[39m*\u001b[39;49m\u001b[39m*\u001b[39;49mfit_params)\n\u001b[1;32m    894\u001b[0m     \u001b[39melse\u001b[39;00m:\n\u001b[1;32m    895\u001b[0m         res \u001b[39m=\u001b[39m transformer\u001b[39m.\u001b[39mfit(X, y, \u001b[39m*\u001b[39m\u001b[39m*\u001b[39mfit_params)\u001b[39m.\u001b[39mtransform(X)\n",
      "File \u001b[0;32m~/anaconda3/envs/salary/lib/python3.10/site-packages/sklearn/utils/_set_output.py:140\u001b[0m, in \u001b[0;36m_wrap_method_output.<locals>.wrapped\u001b[0;34m(self, X, *args, **kwargs)\u001b[0m\n\u001b[1;32m    138\u001b[0m \u001b[39m@wraps\u001b[39m(f)\n\u001b[1;32m    139\u001b[0m \u001b[39mdef\u001b[39;00m \u001b[39mwrapped\u001b[39m(\u001b[39mself\u001b[39m, X, \u001b[39m*\u001b[39margs, \u001b[39m*\u001b[39m\u001b[39m*\u001b[39mkwargs):\n\u001b[0;32m--> 140\u001b[0m     data_to_wrap \u001b[39m=\u001b[39m f(\u001b[39mself\u001b[39;49m, X, \u001b[39m*\u001b[39;49margs, \u001b[39m*\u001b[39;49m\u001b[39m*\u001b[39;49mkwargs)\n\u001b[1;32m    141\u001b[0m     \u001b[39mif\u001b[39;00m \u001b[39misinstance\u001b[39m(data_to_wrap, \u001b[39mtuple\u001b[39m):\n\u001b[1;32m    142\u001b[0m         \u001b[39m# only wrap the first output for cross decomposition\u001b[39;00m\n\u001b[1;32m    143\u001b[0m         \u001b[39mreturn\u001b[39;00m (\n\u001b[1;32m    144\u001b[0m             _wrap_data_with_container(method, data_to_wrap[\u001b[39m0\u001b[39m], X, \u001b[39mself\u001b[39m),\n\u001b[1;32m    145\u001b[0m             \u001b[39m*\u001b[39mdata_to_wrap[\u001b[39m1\u001b[39m:],\n\u001b[1;32m    146\u001b[0m         )\n",
      "File \u001b[0;32m~/anaconda3/envs/salary/lib/python3.10/site-packages/sklearn/base.py:881\u001b[0m, in \u001b[0;36mTransformerMixin.fit_transform\u001b[0;34m(self, X, y, **fit_params)\u001b[0m\n\u001b[1;32m    878\u001b[0m     \u001b[39mreturn\u001b[39;00m \u001b[39mself\u001b[39m\u001b[39m.\u001b[39mfit(X, \u001b[39m*\u001b[39m\u001b[39m*\u001b[39mfit_params)\u001b[39m.\u001b[39mtransform(X)\n\u001b[1;32m    879\u001b[0m \u001b[39melse\u001b[39;00m:\n\u001b[1;32m    880\u001b[0m     \u001b[39m# fit method of arity 2 (supervised transformation)\u001b[39;00m\n\u001b[0;32m--> 881\u001b[0m     \u001b[39mreturn\u001b[39;00m \u001b[39mself\u001b[39;49m\u001b[39m.\u001b[39;49mfit(X, y, \u001b[39m*\u001b[39;49m\u001b[39m*\u001b[39;49mfit_params)\u001b[39m.\u001b[39mtransform(X)\n",
      "File \u001b[0;32m~/anaconda3/envs/salary/lib/python3.10/site-packages/feature_engine/encoding/ordinal.py:197\u001b[0m, in \u001b[0;36mOrdinalEncoder.fit\u001b[0;34m(self, X, y)\u001b[0m\n\u001b[1;32m    182\u001b[0m \u001b[39m\u001b[39m\u001b[39m\"\"\"Learn the numbers to be used to replace the categories in each\u001b[39;00m\n\u001b[1;32m    183\u001b[0m \u001b[39mvariable.\u001b[39;00m\n\u001b[1;32m    184\u001b[0m \n\u001b[0;32m   (...)\u001b[0m\n\u001b[1;32m    193\u001b[0m \u001b[39m    Otherwise, y needs to be passed when fitting the transformer.\u001b[39;00m\n\u001b[1;32m    194\u001b[0m \u001b[39m\"\"\"\u001b[39;00m\n\u001b[1;32m    196\u001b[0m \u001b[39mif\u001b[39;00m \u001b[39mself\u001b[39m\u001b[39m.\u001b[39mencoding_method \u001b[39m==\u001b[39m \u001b[39m\"\u001b[39m\u001b[39mordered\u001b[39m\u001b[39m\"\u001b[39m:\n\u001b[0;32m--> 197\u001b[0m     X, y \u001b[39m=\u001b[39m check_X_y(X, y)\n\u001b[1;32m    198\u001b[0m \u001b[39melse\u001b[39;00m:\n\u001b[1;32m    199\u001b[0m     X \u001b[39m=\u001b[39m check_X(X)\n",
      "File \u001b[0;32m~/anaconda3/envs/salary/lib/python3.10/site-packages/feature_engine/dataframe_checks.py:192\u001b[0m, in \u001b[0;36mcheck_X_y\u001b[0;34m(X, y, multi_output, y_numeric)\u001b[0m\n\u001b[1;32m    190\u001b[0m \u001b[39m# case 1: both are pandas objects\u001b[39;00m\n\u001b[1;32m    191\u001b[0m \u001b[39mif\u001b[39;00m \u001b[39misinstance\u001b[39m(X, pd\u001b[39m.\u001b[39mDataFrame) \u001b[39mand\u001b[39;00m \u001b[39misinstance\u001b[39m(y, pd\u001b[39m.\u001b[39mSeries):\n\u001b[0;32m--> 192\u001b[0m     X, y \u001b[39m=\u001b[39m _check_X_y(X, y)\n\u001b[1;32m    193\u001b[0m     \u001b[39m# Check that their indexes match.\u001b[39;00m\n\u001b[1;32m    194\u001b[0m     \u001b[39mif\u001b[39;00m X\u001b[39m.\u001b[39mindex\u001b[39m.\u001b[39mequals(y\u001b[39m.\u001b[39mindex) \u001b[39mis\u001b[39;00m \u001b[39mFalse\u001b[39;00m:\n",
      "File \u001b[0;32m~/anaconda3/envs/salary/lib/python3.10/site-packages/feature_engine/dataframe_checks.py:186\u001b[0m, in \u001b[0;36mcheck_X_y.<locals>._check_X_y\u001b[0;34m(X, y)\u001b[0m\n\u001b[1;32m    184\u001b[0m \u001b[39mdef\u001b[39;00m \u001b[39m_check_X_y\u001b[39m(X, y):\n\u001b[1;32m    185\u001b[0m     X \u001b[39m=\u001b[39m check_X(X)\n\u001b[0;32m--> 186\u001b[0m     y \u001b[39m=\u001b[39m check_y(y, multi_output\u001b[39m=\u001b[39;49mmulti_output, y_numeric\u001b[39m=\u001b[39;49my_numeric)\n\u001b[1;32m    187\u001b[0m     check_consistent_length(X, y)\n\u001b[1;32m    188\u001b[0m     \u001b[39mreturn\u001b[39;00m X, y\n",
      "File \u001b[0;32m~/anaconda3/envs/salary/lib/python3.10/site-packages/feature_engine/dataframe_checks.py:127\u001b[0m, in \u001b[0;36mcheck_y\u001b[0;34m(y, multi_output, y_numeric)\u001b[0m\n\u001b[1;32m    125\u001b[0m \u001b[39mif\u001b[39;00m y\u001b[39m.\u001b[39misnull()\u001b[39m.\u001b[39many():\n\u001b[1;32m    126\u001b[0m     \u001b[39mraise\u001b[39;00m \u001b[39mValueError\u001b[39;00m(\u001b[39m\"\u001b[39m\u001b[39my contains NaN values.\u001b[39m\u001b[39m\"\u001b[39m)\n\u001b[0;32m--> 127\u001b[0m \u001b[39mif\u001b[39;00m y\u001b[39m.\u001b[39mdtype \u001b[39m!=\u001b[39m \u001b[39m\"\u001b[39m\u001b[39mO\u001b[39m\u001b[39m\"\u001b[39m \u001b[39mand\u001b[39;00m \u001b[39mnot\u001b[39;00m np\u001b[39m.\u001b[39;49misfinite(y)\u001b[39m.\u001b[39;49mall():\n\u001b[1;32m    128\u001b[0m     \u001b[39mraise\u001b[39;00m \u001b[39mValueError\u001b[39;00m(\u001b[39m\"\u001b[39m\u001b[39my contains infinity values.\u001b[39m\u001b[39m\"\u001b[39m)\n\u001b[1;32m    129\u001b[0m \u001b[39mif\u001b[39;00m y_numeric \u001b[39mand\u001b[39;00m y\u001b[39m.\u001b[39mdtype \u001b[39m==\u001b[39m \u001b[39m\"\u001b[39m\u001b[39mO\u001b[39m\u001b[39m\"\u001b[39m:\n",
      "File \u001b[0;32m~/anaconda3/envs/salary/lib/python3.10/site-packages/pandas/core/generic.py:11638\u001b[0m, in \u001b[0;36mNDFrame._add_numeric_operations.<locals>.all\u001b[0;34m(self, axis, bool_only, skipna, level, **kwargs)\u001b[0m\n\u001b[1;32m  11627\u001b[0m \u001b[39m@doc\u001b[39m(\n\u001b[1;32m  11628\u001b[0m     _bool_doc,\n\u001b[1;32m  11629\u001b[0m     desc\u001b[39m=\u001b[39m_all_desc,\n\u001b[0;32m   (...)\u001b[0m\n\u001b[1;32m  11636\u001b[0m )\n\u001b[1;32m  11637\u001b[0m \u001b[39mdef\u001b[39;00m \u001b[39mall\u001b[39m(\u001b[39mself\u001b[39m, axis\u001b[39m=\u001b[39m\u001b[39m0\u001b[39m, bool_only\u001b[39m=\u001b[39m\u001b[39mNone\u001b[39;00m, skipna\u001b[39m=\u001b[39m\u001b[39mTrue\u001b[39;00m, level\u001b[39m=\u001b[39m\u001b[39mNone\u001b[39;00m, \u001b[39m*\u001b[39m\u001b[39m*\u001b[39mkwargs):\n\u001b[0;32m> 11638\u001b[0m     \u001b[39mreturn\u001b[39;00m NDFrame\u001b[39m.\u001b[39;49mall(\u001b[39mself\u001b[39;49m, axis, bool_only, skipna, level, \u001b[39m*\u001b[39;49m\u001b[39m*\u001b[39;49mkwargs)\n",
      "File \u001b[0;32m~/anaconda3/envs/salary/lib/python3.10/site-packages/pandas/core/generic.py:11193\u001b[0m, in \u001b[0;36mNDFrame.all\u001b[0;34m(self, axis, bool_only, skipna, level, **kwargs)\u001b[0m\n\u001b[1;32m  11185\u001b[0m \u001b[39mdef\u001b[39;00m \u001b[39mall\u001b[39m(\n\u001b[1;32m  11186\u001b[0m     \u001b[39mself\u001b[39m,\n\u001b[1;32m  11187\u001b[0m     axis: Axis \u001b[39m=\u001b[39m \u001b[39m0\u001b[39m,\n\u001b[0;32m   (...)\u001b[0m\n\u001b[1;32m  11191\u001b[0m     \u001b[39m*\u001b[39m\u001b[39m*\u001b[39mkwargs,\n\u001b[1;32m  11192\u001b[0m ) \u001b[39m-\u001b[39m\u001b[39m>\u001b[39m Series \u001b[39m|\u001b[39m bool_t:\n\u001b[0;32m> 11193\u001b[0m     \u001b[39mreturn\u001b[39;00m \u001b[39mself\u001b[39;49m\u001b[39m.\u001b[39;49m_logical_func(\n\u001b[1;32m  11194\u001b[0m         \u001b[39m\"\u001b[39;49m\u001b[39mall\u001b[39;49m\u001b[39m\"\u001b[39;49m, nanops\u001b[39m.\u001b[39;49mnanall, axis, bool_only, skipna, level, \u001b[39m*\u001b[39;49m\u001b[39m*\u001b[39;49mkwargs\n\u001b[1;32m  11195\u001b[0m     )\n",
      "File \u001b[0;32m~/anaconda3/envs/salary/lib/python3.10/site-packages/pandas/core/generic.py:11164\u001b[0m, in \u001b[0;36mNDFrame._logical_func\u001b[0;34m(self, name, func, axis, bool_only, skipna, level, **kwargs)\u001b[0m\n\u001b[1;32m  11161\u001b[0m         obj \u001b[39m=\u001b[39m \u001b[39mself\u001b[39m\u001b[39m.\u001b[39m_get_bool_data()\n\u001b[1;32m  11162\u001b[0m     \u001b[39mreturn\u001b[39;00m obj\u001b[39m.\u001b[39m_reduce_axis1(name, func, skipna\u001b[39m=\u001b[39mskipna)\n\u001b[0;32m> 11164\u001b[0m \u001b[39mreturn\u001b[39;00m \u001b[39mself\u001b[39;49m\u001b[39m.\u001b[39;49m_reduce(\n\u001b[1;32m  11165\u001b[0m     func,\n\u001b[1;32m  11166\u001b[0m     name\u001b[39m=\u001b[39;49mname,\n\u001b[1;32m  11167\u001b[0m     axis\u001b[39m=\u001b[39;49maxis,\n\u001b[1;32m  11168\u001b[0m     skipna\u001b[39m=\u001b[39;49mskipna,\n\u001b[1;32m  11169\u001b[0m     numeric_only\u001b[39m=\u001b[39;49mbool_only,\n\u001b[1;32m  11170\u001b[0m     filter_type\u001b[39m=\u001b[39;49m\u001b[39m\"\u001b[39;49m\u001b[39mbool\u001b[39;49m\u001b[39m\"\u001b[39;49m,\n\u001b[1;32m  11171\u001b[0m )\n",
      "File \u001b[0;32m~/anaconda3/envs/salary/lib/python3.10/site-packages/pandas/core/series.py:4819\u001b[0m, in \u001b[0;36mSeries._reduce\u001b[0;34m(self, op, name, axis, skipna, numeric_only, filter_type, **kwds)\u001b[0m\n\u001b[1;32m   4815\u001b[0m     \u001b[39mraise\u001b[39;00m \u001b[39mNotImplementedError\u001b[39;00m(\n\u001b[1;32m   4816\u001b[0m         \u001b[39mf\u001b[39m\u001b[39m\"\u001b[39m\u001b[39mSeries.\u001b[39m\u001b[39m{\u001b[39;00mname\u001b[39m}\u001b[39;00m\u001b[39m does not implement \u001b[39m\u001b[39m{\u001b[39;00mkwd_name\u001b[39m}\u001b[39;00m\u001b[39m.\u001b[39m\u001b[39m\"\u001b[39m\n\u001b[1;32m   4817\u001b[0m     )\n\u001b[1;32m   4818\u001b[0m \u001b[39mwith\u001b[39;00m np\u001b[39m.\u001b[39merrstate(\u001b[39mall\u001b[39m\u001b[39m=\u001b[39m\u001b[39m\"\u001b[39m\u001b[39mignore\u001b[39m\u001b[39m\"\u001b[39m):\n\u001b[0;32m-> 4819\u001b[0m     \u001b[39mreturn\u001b[39;00m op(delegate, skipna\u001b[39m=\u001b[39;49mskipna, \u001b[39m*\u001b[39;49m\u001b[39m*\u001b[39;49mkwds)\n",
      "File \u001b[0;32m~/anaconda3/envs/salary/lib/python3.10/site-packages/pandas/core/nanops.py:585\u001b[0m, in \u001b[0;36mnanall\u001b[0;34m(values, axis, skipna, mask)\u001b[0m\n\u001b[1;32m    581\u001b[0m     values \u001b[39m=\u001b[39m values\u001b[39m.\u001b[39mastype(\u001b[39mbool\u001b[39m)\n\u001b[1;32m    583\u001b[0m \u001b[39m# error: Incompatible return value type (got \"Union[bool_, ndarray]\", expected\u001b[39;00m\n\u001b[1;32m    584\u001b[0m \u001b[39m# \"bool\")\u001b[39;00m\n\u001b[0;32m--> 585\u001b[0m \u001b[39mreturn\u001b[39;00m values\u001b[39m.\u001b[39;49mall(axis)\n",
      "\u001b[0;31mTypeError\u001b[0m: BaseMaskedArray.all() takes 1 positional argument but 2 were given"
     ]
    }
   ],
   "source": [
    "salary_preprocess.fit(X_train, y_train)"
   ]
  },
  {
   "cell_type": "code",
   "execution_count": 45,
   "metadata": {},
   "outputs": [],
   "source": [
    "X_train['y'] = y_train\n",
    "X_val['y'] = y_val"
   ]
  },
  {
   "cell_type": "code",
   "execution_count": 46,
   "metadata": {},
   "outputs": [
    {
     "ename": "TypeError",
     "evalue": "BlockManager.__init__() got an unexpected keyword argument 'parent'",
     "output_type": "error",
     "traceback": [
      "\u001b[0;31m---------------------------------------------------------------------------\u001b[0m",
      "\u001b[0;31mTypeError\u001b[0m                                 Traceback (most recent call last)",
      "Cell \u001b[0;32mIn[46], line 1\u001b[0m\n\u001b[0;32m----> 1\u001b[0m setup(  data\u001b[39m=\u001b[39;49m X_train, target \u001b[39m=\u001b[39;49m \u001b[39m'\u001b[39;49m\u001b[39my\u001b[39;49m\u001b[39m'\u001b[39;49m,\n\u001b[1;32m      2\u001b[0m             session_id \u001b[39m=\u001b[39;49m \u001b[39m0\u001b[39;49m, \n\u001b[1;32m      3\u001b[0m             preprocess \u001b[39m=\u001b[39;49m \u001b[39mFalse\u001b[39;49;00m,\n\u001b[1;32m      4\u001b[0m             test_data \u001b[39m=\u001b[39;49m X_val,\n\u001b[1;32m      5\u001b[0m             index\u001b[39m=\u001b[39;49m\u001b[39mFalse\u001b[39;49;00m,\n\u001b[1;32m      6\u001b[0m             verbose \u001b[39m=\u001b[39;49m \u001b[39mFalse\u001b[39;49;00m,custom_pipeline\u001b[39m=\u001b[39;49m salary_preprocess\n\u001b[1;32m      7\u001b[0m                     )\n",
      "File \u001b[0;32m~/anaconda3/envs/salary/lib/python3.10/site-packages/pycaret/classification/functional.py:602\u001b[0m, in \u001b[0;36msetup\u001b[0;34m(data, data_func, target, index, train_size, test_data, ordinal_features, numeric_features, categorical_features, date_features, text_features, ignore_features, keep_features, preprocess, create_date_columns, imputation_type, numeric_imputation, categorical_imputation, iterative_imputation_iters, numeric_iterative_imputer, categorical_iterative_imputer, text_features_method, max_encoding_ohe, encoding_method, rare_to_value, rare_value, polynomial_features, polynomial_degree, low_variance_threshold, group_features, group_names, drop_groups, remove_multicollinearity, multicollinearity_threshold, bin_numeric_features, remove_outliers, outliers_method, outliers_threshold, fix_imbalance, fix_imbalance_method, transformation, transformation_method, normalize, normalize_method, pca, pca_method, pca_components, feature_selection, feature_selection_method, feature_selection_estimator, n_features_to_select, custom_pipeline, custom_pipeline_position, data_split_shuffle, data_split_stratify, fold_strategy, fold, fold_shuffle, fold_groups, n_jobs, use_gpu, html, session_id, system_log, log_experiment, experiment_name, experiment_custom_tags, log_plots, log_profile, log_data, verbose, memory, profile, profile_kwargs)\u001b[0m\n\u001b[1;32m    600\u001b[0m exp \u001b[39m=\u001b[39m _EXPERIMENT_CLASS()\n\u001b[1;32m    601\u001b[0m set_current_experiment(exp)\n\u001b[0;32m--> 602\u001b[0m \u001b[39mreturn\u001b[39;00m exp\u001b[39m.\u001b[39;49msetup(\n\u001b[1;32m    603\u001b[0m     data\u001b[39m=\u001b[39;49mdata,\n\u001b[1;32m    604\u001b[0m     data_func\u001b[39m=\u001b[39;49mdata_func,\n\u001b[1;32m    605\u001b[0m     target\u001b[39m=\u001b[39;49mtarget,\n\u001b[1;32m    606\u001b[0m     index\u001b[39m=\u001b[39;49mindex,\n\u001b[1;32m    607\u001b[0m     train_size\u001b[39m=\u001b[39;49mtrain_size,\n\u001b[1;32m    608\u001b[0m     test_data\u001b[39m=\u001b[39;49mtest_data,\n\u001b[1;32m    609\u001b[0m     ordinal_features\u001b[39m=\u001b[39;49mordinal_features,\n\u001b[1;32m    610\u001b[0m     numeric_features\u001b[39m=\u001b[39;49mnumeric_features,\n\u001b[1;32m    611\u001b[0m     categorical_features\u001b[39m=\u001b[39;49mcategorical_features,\n\u001b[1;32m    612\u001b[0m     date_features\u001b[39m=\u001b[39;49mdate_features,\n\u001b[1;32m    613\u001b[0m     text_features\u001b[39m=\u001b[39;49mtext_features,\n\u001b[1;32m    614\u001b[0m     ignore_features\u001b[39m=\u001b[39;49mignore_features,\n\u001b[1;32m    615\u001b[0m     keep_features\u001b[39m=\u001b[39;49mkeep_features,\n\u001b[1;32m    616\u001b[0m     preprocess\u001b[39m=\u001b[39;49mpreprocess,\n\u001b[1;32m    617\u001b[0m     create_date_columns\u001b[39m=\u001b[39;49mcreate_date_columns,\n\u001b[1;32m    618\u001b[0m     imputation_type\u001b[39m=\u001b[39;49mimputation_type,\n\u001b[1;32m    619\u001b[0m     numeric_imputation\u001b[39m=\u001b[39;49mnumeric_imputation,\n\u001b[1;32m    620\u001b[0m     categorical_imputation\u001b[39m=\u001b[39;49mcategorical_imputation,\n\u001b[1;32m    621\u001b[0m     iterative_imputation_iters\u001b[39m=\u001b[39;49miterative_imputation_iters,\n\u001b[1;32m    622\u001b[0m     numeric_iterative_imputer\u001b[39m=\u001b[39;49mnumeric_iterative_imputer,\n\u001b[1;32m    623\u001b[0m     categorical_iterative_imputer\u001b[39m=\u001b[39;49mcategorical_iterative_imputer,\n\u001b[1;32m    624\u001b[0m     text_features_method\u001b[39m=\u001b[39;49mtext_features_method,\n\u001b[1;32m    625\u001b[0m     max_encoding_ohe\u001b[39m=\u001b[39;49mmax_encoding_ohe,\n\u001b[1;32m    626\u001b[0m     encoding_method\u001b[39m=\u001b[39;49mencoding_method,\n\u001b[1;32m    627\u001b[0m     rare_to_value\u001b[39m=\u001b[39;49mrare_to_value,\n\u001b[1;32m    628\u001b[0m     rare_value\u001b[39m=\u001b[39;49mrare_value,\n\u001b[1;32m    629\u001b[0m     polynomial_features\u001b[39m=\u001b[39;49mpolynomial_features,\n\u001b[1;32m    630\u001b[0m     polynomial_degree\u001b[39m=\u001b[39;49mpolynomial_degree,\n\u001b[1;32m    631\u001b[0m     low_variance_threshold\u001b[39m=\u001b[39;49mlow_variance_threshold,\n\u001b[1;32m    632\u001b[0m     group_features\u001b[39m=\u001b[39;49mgroup_features,\n\u001b[1;32m    633\u001b[0m     group_names\u001b[39m=\u001b[39;49mgroup_names,\n\u001b[1;32m    634\u001b[0m     drop_groups\u001b[39m=\u001b[39;49mdrop_groups,\n\u001b[1;32m    635\u001b[0m     remove_multicollinearity\u001b[39m=\u001b[39;49mremove_multicollinearity,\n\u001b[1;32m    636\u001b[0m     multicollinearity_threshold\u001b[39m=\u001b[39;49mmulticollinearity_threshold,\n\u001b[1;32m    637\u001b[0m     bin_numeric_features\u001b[39m=\u001b[39;49mbin_numeric_features,\n\u001b[1;32m    638\u001b[0m     remove_outliers\u001b[39m=\u001b[39;49mremove_outliers,\n\u001b[1;32m    639\u001b[0m     outliers_method\u001b[39m=\u001b[39;49moutliers_method,\n\u001b[1;32m    640\u001b[0m     outliers_threshold\u001b[39m=\u001b[39;49moutliers_threshold,\n\u001b[1;32m    641\u001b[0m     fix_imbalance\u001b[39m=\u001b[39;49mfix_imbalance,\n\u001b[1;32m    642\u001b[0m     fix_imbalance_method\u001b[39m=\u001b[39;49mfix_imbalance_method,\n\u001b[1;32m    643\u001b[0m     transformation\u001b[39m=\u001b[39;49mtransformation,\n\u001b[1;32m    644\u001b[0m     transformation_method\u001b[39m=\u001b[39;49mtransformation_method,\n\u001b[1;32m    645\u001b[0m     normalize\u001b[39m=\u001b[39;49mnormalize,\n\u001b[1;32m    646\u001b[0m     normalize_method\u001b[39m=\u001b[39;49mnormalize_method,\n\u001b[1;32m    647\u001b[0m     pca\u001b[39m=\u001b[39;49mpca,\n\u001b[1;32m    648\u001b[0m     pca_method\u001b[39m=\u001b[39;49mpca_method,\n\u001b[1;32m    649\u001b[0m     pca_components\u001b[39m=\u001b[39;49mpca_components,\n\u001b[1;32m    650\u001b[0m     feature_selection\u001b[39m=\u001b[39;49mfeature_selection,\n\u001b[1;32m    651\u001b[0m     feature_selection_method\u001b[39m=\u001b[39;49mfeature_selection_method,\n\u001b[1;32m    652\u001b[0m     feature_selection_estimator\u001b[39m=\u001b[39;49mfeature_selection_estimator,\n\u001b[1;32m    653\u001b[0m     n_features_to_select\u001b[39m=\u001b[39;49mn_features_to_select,\n\u001b[1;32m    654\u001b[0m     custom_pipeline\u001b[39m=\u001b[39;49mcustom_pipeline,\n\u001b[1;32m    655\u001b[0m     custom_pipeline_position\u001b[39m=\u001b[39;49mcustom_pipeline_position,\n\u001b[1;32m    656\u001b[0m     data_split_shuffle\u001b[39m=\u001b[39;49mdata_split_shuffle,\n\u001b[1;32m    657\u001b[0m     data_split_stratify\u001b[39m=\u001b[39;49mdata_split_stratify,\n\u001b[1;32m    658\u001b[0m     fold_strategy\u001b[39m=\u001b[39;49mfold_strategy,\n\u001b[1;32m    659\u001b[0m     fold\u001b[39m=\u001b[39;49mfold,\n\u001b[1;32m    660\u001b[0m     fold_shuffle\u001b[39m=\u001b[39;49mfold_shuffle,\n\u001b[1;32m    661\u001b[0m     fold_groups\u001b[39m=\u001b[39;49mfold_groups,\n\u001b[1;32m    662\u001b[0m     n_jobs\u001b[39m=\u001b[39;49mn_jobs,\n\u001b[1;32m    663\u001b[0m     use_gpu\u001b[39m=\u001b[39;49muse_gpu,\n\u001b[1;32m    664\u001b[0m     html\u001b[39m=\u001b[39;49mhtml,\n\u001b[1;32m    665\u001b[0m     session_id\u001b[39m=\u001b[39;49msession_id,\n\u001b[1;32m    666\u001b[0m     system_log\u001b[39m=\u001b[39;49msystem_log,\n\u001b[1;32m    667\u001b[0m     log_experiment\u001b[39m=\u001b[39;49mlog_experiment,\n\u001b[1;32m    668\u001b[0m     experiment_name\u001b[39m=\u001b[39;49mexperiment_name,\n\u001b[1;32m    669\u001b[0m     experiment_custom_tags\u001b[39m=\u001b[39;49mexperiment_custom_tags,\n\u001b[1;32m    670\u001b[0m     log_plots\u001b[39m=\u001b[39;49mlog_plots,\n\u001b[1;32m    671\u001b[0m     log_profile\u001b[39m=\u001b[39;49mlog_profile,\n\u001b[1;32m    672\u001b[0m     log_data\u001b[39m=\u001b[39;49mlog_data,\n\u001b[1;32m    673\u001b[0m     verbose\u001b[39m=\u001b[39;49mverbose,\n\u001b[1;32m    674\u001b[0m     memory\u001b[39m=\u001b[39;49mmemory,\n\u001b[1;32m    675\u001b[0m     profile\u001b[39m=\u001b[39;49mprofile,\n\u001b[1;32m    676\u001b[0m     profile_kwargs\u001b[39m=\u001b[39;49mprofile_kwargs,\n\u001b[1;32m    677\u001b[0m )\n",
      "File \u001b[0;32m~/anaconda3/envs/salary/lib/python3.10/site-packages/pycaret/classification/oop.py:755\u001b[0m, in \u001b[0;36mClassificationExperiment.setup\u001b[0;34m(self, data, data_func, target, index, train_size, test_data, ordinal_features, numeric_features, categorical_features, date_features, text_features, ignore_features, keep_features, preprocess, create_date_columns, imputation_type, numeric_imputation, categorical_imputation, iterative_imputation_iters, numeric_iterative_imputer, categorical_iterative_imputer, text_features_method, max_encoding_ohe, encoding_method, rare_to_value, rare_value, polynomial_features, polynomial_degree, low_variance_threshold, group_features, group_names, drop_groups, remove_multicollinearity, multicollinearity_threshold, bin_numeric_features, remove_outliers, outliers_method, outliers_threshold, fix_imbalance, fix_imbalance_method, transformation, transformation_method, normalize, normalize_method, pca, pca_method, pca_components, feature_selection, feature_selection_method, feature_selection_estimator, n_features_to_select, custom_pipeline, custom_pipeline_position, data_split_shuffle, data_split_stratify, fold_strategy, fold, fold_shuffle, fold_groups, n_jobs, use_gpu, html, session_id, system_log, log_experiment, experiment_name, experiment_custom_tags, log_plots, log_profile, log_data, engine, verbose, memory, profile, profile_kwargs)\u001b[0m\n\u001b[1;32m    752\u001b[0m \u001b[39mif\u001b[39;00m data_func \u001b[39mis\u001b[39;00m \u001b[39mnot\u001b[39;00m \u001b[39mNone\u001b[39;00m:\n\u001b[1;32m    753\u001b[0m     data \u001b[39m=\u001b[39m data_func()\n\u001b[0;32m--> 755\u001b[0m \u001b[39mself\u001b[39m\u001b[39m.\u001b[39mdata \u001b[39m=\u001b[39m \u001b[39mself\u001b[39;49m\u001b[39m.\u001b[39;49m_prepare_dataset(data, target)\n\u001b[1;32m    756\u001b[0m \u001b[39mself\u001b[39m\u001b[39m.\u001b[39mtarget_param \u001b[39m=\u001b[39m \u001b[39mself\u001b[39m\u001b[39m.\u001b[39mdata\u001b[39m.\u001b[39mcolumns[\u001b[39m-\u001b[39m\u001b[39m1\u001b[39m]\n\u001b[1;32m    757\u001b[0m \u001b[39mself\u001b[39m\u001b[39m.\u001b[39mindex \u001b[39m=\u001b[39m index\n",
      "File \u001b[0;32m~/anaconda3/envs/salary/lib/python3.10/site-packages/pycaret/internal/preprocess/preprocessor.py:169\u001b[0m, in \u001b[0;36mPreprocessor._prepare_dataset\u001b[0;34m(self, X, y)\u001b[0m\n\u001b[1;32m    162\u001b[0m \u001b[39mif\u001b[39;00m y\u001b[39m.\u001b[39misna()\u001b[39m.\u001b[39many():\n\u001b[1;32m    163\u001b[0m     \u001b[39mraise\u001b[39;00m \u001b[39mValueError\u001b[39;00m(\n\u001b[1;32m    164\u001b[0m         \u001b[39mf\u001b[39m\u001b[39m\"\u001b[39m\u001b[39m{\u001b[39;00my\u001b[39m.\u001b[39misna()\u001b[39m.\u001b[39msum()\u001b[39m}\u001b[39;00m\u001b[39m missing values found in the target column: \u001b[39m\u001b[39m\"\u001b[39m\n\u001b[1;32m    165\u001b[0m         \u001b[39mf\u001b[39m\u001b[39m\"\u001b[39m\u001b[39m{\u001b[39;00my\u001b[39m.\u001b[39mname\u001b[39m}\u001b[39;00m\u001b[39m. To proceed, remove the respective rows from the data. \u001b[39m\u001b[39m\"\u001b[39m\n\u001b[1;32m    166\u001b[0m     )\n\u001b[1;32m    168\u001b[0m \u001b[39mreturn\u001b[39;00m df_shrink_dtypes(\n\u001b[0;32m--> 169\u001b[0m     X\u001b[39m.\u001b[39;49mmerge(y\u001b[39m.\u001b[39;49mto_frame(), left_index\u001b[39m=\u001b[39;49m\u001b[39mTrue\u001b[39;49;00m, right_index\u001b[39m=\u001b[39;49m\u001b[39mTrue\u001b[39;49;00m)\n\u001b[1;32m    170\u001b[0m )\n",
      "File \u001b[0;32m~/anaconda3/envs/salary/lib/python3.10/site-packages/pandas/core/frame.py:10083\u001b[0m, in \u001b[0;36mDataFrame.merge\u001b[0;34m(self, right, how, on, left_on, right_on, left_index, right_index, sort, suffixes, copy, indicator, validate)\u001b[0m\n\u001b[1;32m  10064\u001b[0m \u001b[39m@Substitution\u001b[39m(\u001b[39m\"\u001b[39m\u001b[39m\"\u001b[39m)\n\u001b[1;32m  10065\u001b[0m \u001b[39m@Appender\u001b[39m(_merge_doc, indents\u001b[39m=\u001b[39m\u001b[39m2\u001b[39m)\n\u001b[1;32m  10066\u001b[0m \u001b[39mdef\u001b[39;00m \u001b[39mmerge\u001b[39m(\n\u001b[0;32m   (...)\u001b[0m\n\u001b[1;32m  10079\u001b[0m     validate: \u001b[39mstr\u001b[39m \u001b[39m|\u001b[39m \u001b[39mNone\u001b[39;00m \u001b[39m=\u001b[39m \u001b[39mNone\u001b[39;00m,\n\u001b[1;32m  10080\u001b[0m ) \u001b[39m-\u001b[39m\u001b[39m>\u001b[39m DataFrame:\n\u001b[1;32m  10081\u001b[0m     \u001b[39mfrom\u001b[39;00m \u001b[39mpandas\u001b[39;00m\u001b[39m.\u001b[39;00m\u001b[39mcore\u001b[39;00m\u001b[39m.\u001b[39;00m\u001b[39mreshape\u001b[39;00m\u001b[39m.\u001b[39;00m\u001b[39mmerge\u001b[39;00m \u001b[39mimport\u001b[39;00m merge\n\u001b[0;32m> 10083\u001b[0m     \u001b[39mreturn\u001b[39;00m merge(\n\u001b[1;32m  10084\u001b[0m         \u001b[39mself\u001b[39;49m,\n\u001b[1;32m  10085\u001b[0m         right,\n\u001b[1;32m  10086\u001b[0m         how\u001b[39m=\u001b[39;49mhow,\n\u001b[1;32m  10087\u001b[0m         on\u001b[39m=\u001b[39;49mon,\n\u001b[1;32m  10088\u001b[0m         left_on\u001b[39m=\u001b[39;49mleft_on,\n\u001b[1;32m  10089\u001b[0m         right_on\u001b[39m=\u001b[39;49mright_on,\n\u001b[1;32m  10090\u001b[0m         left_index\u001b[39m=\u001b[39;49mleft_index,\n\u001b[1;32m  10091\u001b[0m         right_index\u001b[39m=\u001b[39;49mright_index,\n\u001b[1;32m  10092\u001b[0m         sort\u001b[39m=\u001b[39;49msort,\n\u001b[1;32m  10093\u001b[0m         suffixes\u001b[39m=\u001b[39;49msuffixes,\n\u001b[1;32m  10094\u001b[0m         copy\u001b[39m=\u001b[39;49mcopy,\n\u001b[1;32m  10095\u001b[0m         indicator\u001b[39m=\u001b[39;49mindicator,\n\u001b[1;32m  10096\u001b[0m         validate\u001b[39m=\u001b[39;49mvalidate,\n\u001b[1;32m  10097\u001b[0m     )\n",
      "File \u001b[0;32m~/anaconda3/envs/salary/lib/python3.10/site-packages/pandas/core/reshape/merge.py:125\u001b[0m, in \u001b[0;36mmerge\u001b[0;34m(left, right, how, on, left_on, right_on, left_index, right_index, sort, suffixes, copy, indicator, validate)\u001b[0m\n\u001b[1;32m     94\u001b[0m \u001b[39m@Substitution\u001b[39m(\u001b[39m\"\u001b[39m\u001b[39m\\n\u001b[39;00m\u001b[39mleft : DataFrame or named Series\u001b[39m\u001b[39m\"\u001b[39m)\n\u001b[1;32m     95\u001b[0m \u001b[39m@Appender\u001b[39m(_merge_doc, indents\u001b[39m=\u001b[39m\u001b[39m0\u001b[39m)\n\u001b[1;32m     96\u001b[0m \u001b[39mdef\u001b[39;00m \u001b[39mmerge\u001b[39m(\n\u001b[0;32m   (...)\u001b[0m\n\u001b[1;32m    109\u001b[0m     validate: \u001b[39mstr\u001b[39m \u001b[39m|\u001b[39m \u001b[39mNone\u001b[39;00m \u001b[39m=\u001b[39m \u001b[39mNone\u001b[39;00m,\n\u001b[1;32m    110\u001b[0m ) \u001b[39m-\u001b[39m\u001b[39m>\u001b[39m DataFrame:\n\u001b[1;32m    111\u001b[0m     op \u001b[39m=\u001b[39m _MergeOperation(\n\u001b[1;32m    112\u001b[0m         left,\n\u001b[1;32m    113\u001b[0m         right,\n\u001b[0;32m   (...)\u001b[0m\n\u001b[1;32m    123\u001b[0m         validate\u001b[39m=\u001b[39mvalidate,\n\u001b[1;32m    124\u001b[0m     )\n\u001b[0;32m--> 125\u001b[0m     \u001b[39mreturn\u001b[39;00m op\u001b[39m.\u001b[39;49mget_result(copy\u001b[39m=\u001b[39;49mcopy)\n",
      "File \u001b[0;32m~/anaconda3/envs/salary/lib/python3.10/site-packages/pandas/core/reshape/merge.py:778\u001b[0m, in \u001b[0;36m_MergeOperation.get_result\u001b[0;34m(self, copy)\u001b[0m\n\u001b[1;32m    774\u001b[0m     \u001b[39mself\u001b[39m\u001b[39m.\u001b[39mleft, \u001b[39mself\u001b[39m\u001b[39m.\u001b[39mright \u001b[39m=\u001b[39m \u001b[39mself\u001b[39m\u001b[39m.\u001b[39m_indicator_pre_merge(\u001b[39mself\u001b[39m\u001b[39m.\u001b[39mleft, \u001b[39mself\u001b[39m\u001b[39m.\u001b[39mright)\n\u001b[1;32m    776\u001b[0m join_index, left_indexer, right_indexer \u001b[39m=\u001b[39m \u001b[39mself\u001b[39m\u001b[39m.\u001b[39m_get_join_info()\n\u001b[0;32m--> 778\u001b[0m result \u001b[39m=\u001b[39m \u001b[39mself\u001b[39;49m\u001b[39m.\u001b[39;49m_reindex_and_concat(\n\u001b[1;32m    779\u001b[0m     join_index, left_indexer, right_indexer, copy\u001b[39m=\u001b[39;49mcopy\n\u001b[1;32m    780\u001b[0m )\n\u001b[1;32m    781\u001b[0m result \u001b[39m=\u001b[39m result\u001b[39m.\u001b[39m__finalize__(\u001b[39mself\u001b[39m, method\u001b[39m=\u001b[39m\u001b[39mself\u001b[39m\u001b[39m.\u001b[39m_merge_type)\n\u001b[1;32m    783\u001b[0m \u001b[39mif\u001b[39;00m \u001b[39mself\u001b[39m\u001b[39m.\u001b[39mindicator:\n",
      "File \u001b[0;32m~/anaconda3/envs/salary/lib/python3.10/site-packages/pandas/core/reshape/merge.py:729\u001b[0m, in \u001b[0;36m_MergeOperation._reindex_and_concat\u001b[0;34m(self, join_index, left_indexer, right_indexer, copy)\u001b[0m\n\u001b[1;32m    725\u001b[0m \u001b[39m\u001b[39m\u001b[39m\"\"\"\u001b[39;00m\n\u001b[1;32m    726\u001b[0m \u001b[39mreindex along index and concat along columns.\u001b[39;00m\n\u001b[1;32m    727\u001b[0m \u001b[39m\"\"\"\u001b[39;00m\n\u001b[1;32m    728\u001b[0m \u001b[39m# Take views so we do not alter the originals\u001b[39;00m\n\u001b[0;32m--> 729\u001b[0m left \u001b[39m=\u001b[39m \u001b[39mself\u001b[39;49m\u001b[39m.\u001b[39;49mleft[:]\n\u001b[1;32m    730\u001b[0m right \u001b[39m=\u001b[39m \u001b[39mself\u001b[39m\u001b[39m.\u001b[39mright[:]\n\u001b[1;32m    732\u001b[0m llabels, rlabels \u001b[39m=\u001b[39m _items_overlap_with_suffix(\n\u001b[1;32m    733\u001b[0m     \u001b[39mself\u001b[39m\u001b[39m.\u001b[39mleft\u001b[39m.\u001b[39m_info_axis, \u001b[39mself\u001b[39m\u001b[39m.\u001b[39mright\u001b[39m.\u001b[39m_info_axis, \u001b[39mself\u001b[39m\u001b[39m.\u001b[39msuffixes\n\u001b[1;32m    734\u001b[0m )\n",
      "File \u001b[0;32m~/anaconda3/envs/salary/lib/python3.10/site-packages/pandas/core/frame.py:3788\u001b[0m, in \u001b[0;36mDataFrame.__getitem__\u001b[0;34m(self, key)\u001b[0m\n\u001b[1;32m   3785\u001b[0m             \u001b[39mreturn\u001b[39;00m \u001b[39mself\u001b[39m\u001b[39m.\u001b[39mtake(indexer, axis\u001b[39m=\u001b[39m\u001b[39m0\u001b[39m)\n\u001b[1;32m   3786\u001b[0m     \u001b[39m# either we have a slice or we have a string that can be converted\u001b[39;00m\n\u001b[1;32m   3787\u001b[0m     \u001b[39m#  to a slice for partial-string date indexing\u001b[39;00m\n\u001b[0;32m-> 3788\u001b[0m     \u001b[39mreturn\u001b[39;00m \u001b[39mself\u001b[39;49m\u001b[39m.\u001b[39;49m_slice(indexer, axis\u001b[39m=\u001b[39;49m\u001b[39m0\u001b[39;49m)\n\u001b[1;32m   3790\u001b[0m \u001b[39m# Do we have a (boolean) DataFrame?\u001b[39;00m\n\u001b[1;32m   3791\u001b[0m \u001b[39mif\u001b[39;00m \u001b[39misinstance\u001b[39m(key, DataFrame):\n",
      "File \u001b[0;32m~/anaconda3/envs/salary/lib/python3.10/site-packages/pandas/core/generic.py:4106\u001b[0m, in \u001b[0;36mNDFrame._slice\u001b[0;34m(self, slobj, axis)\u001b[0m\n\u001b[1;32m   4104\u001b[0m \u001b[39massert\u001b[39;00m \u001b[39misinstance\u001b[39m(slobj, \u001b[39mslice\u001b[39m), \u001b[39mtype\u001b[39m(slobj)\n\u001b[1;32m   4105\u001b[0m axis \u001b[39m=\u001b[39m \u001b[39mself\u001b[39m\u001b[39m.\u001b[39m_get_block_manager_axis(axis)\n\u001b[0;32m-> 4106\u001b[0m result \u001b[39m=\u001b[39m \u001b[39mself\u001b[39m\u001b[39m.\u001b[39m_constructor(\u001b[39mself\u001b[39;49m\u001b[39m.\u001b[39;49m_mgr\u001b[39m.\u001b[39;49mget_slice(slobj, axis\u001b[39m=\u001b[39;49maxis))\n\u001b[1;32m   4107\u001b[0m result \u001b[39m=\u001b[39m result\u001b[39m.\u001b[39m__finalize__(\u001b[39mself\u001b[39m)\n\u001b[1;32m   4109\u001b[0m \u001b[39m# this could be a view\u001b[39;00m\n\u001b[1;32m   4110\u001b[0m \u001b[39m# but only in a single-dtyped view sliceable case\u001b[39;00m\n",
      "File \u001b[0;32m~/anaconda3/envs/salary/lib/python3.10/site-packages/pandas/_libs/internals.pyx:827\u001b[0m, in \u001b[0;36mpandas._libs.internals.BlockManager.get_slice\u001b[0;34m()\u001b[0m\n",
      "File \u001b[0;32m~/anaconda3/envs/salary/lib/python3.10/site-packages/pandas/_libs/internals.pyx:810\u001b[0m, in \u001b[0;36mpandas._libs.internals.BlockManager._get_index_slice\u001b[0;34m()\u001b[0m\n",
      "\u001b[0;31mTypeError\u001b[0m: BlockManager.__init__() got an unexpected keyword argument 'parent'"
     ]
    }
   ],
   "source": [
    "setup(  data= X_train, target = 'y',\n",
    "            session_id = 0, \n",
    "            preprocess = False,\n",
    "            test_data = X_val,\n",
    "            index=False,\n",
    "            verbose = False,custom_pipeline= salary_preprocess\n",
    "                    )"
   ]
  },
  {
   "cell_type": "code",
   "execution_count": 47,
   "metadata": {},
   "outputs": [
    {
     "ename": "RuntimeError",
     "evalue": "This function/method requires the users to run setup() first.\nMore info: https://pycaret.gitbook.io/docs/get-started/quickstart",
     "output_type": "error",
     "traceback": [
      "\u001b[0;31m---------------------------------------------------------------------------\u001b[0m",
      "\u001b[0;31mRuntimeError\u001b[0m                              Traceback (most recent call last)",
      "Cell \u001b[0;32mIn[47], line 1\u001b[0m\n\u001b[0;32m----> 1\u001b[0m best \u001b[39m=\u001b[39m compare_models(sort\u001b[39m=\u001b[39;49m\u001b[39m'\u001b[39;49m\u001b[39mAUC\u001b[39;49m\u001b[39m'\u001b[39;49m)\n",
      "File \u001b[0;32m~/anaconda3/envs/salary/lib/python3.10/site-packages/pycaret/utils/generic.py:965\u001b[0m, in \u001b[0;36mcheck_if_global_is_not_none.<locals>.decorator.<locals>.wrapper\u001b[0;34m(*args, **kwargs)\u001b[0m\n\u001b[1;32m    963\u001b[0m     \u001b[39mif\u001b[39;00m globals_d[name] \u001b[39mis\u001b[39;00m \u001b[39mNone\u001b[39;00m:\n\u001b[1;32m    964\u001b[0m         \u001b[39mraise\u001b[39;00m \u001b[39mValueError\u001b[39;00m(message)\n\u001b[0;32m--> 965\u001b[0m \u001b[39mreturn\u001b[39;00m func(\u001b[39m*\u001b[39;49margs, \u001b[39m*\u001b[39;49m\u001b[39m*\u001b[39;49mkwargs)\n",
      "File \u001b[0;32m~/anaconda3/envs/salary/lib/python3.10/site-packages/pycaret/classification/functional.py:822\u001b[0m, in \u001b[0;36mcompare_models\u001b[0;34m(include, exclude, fold, round, cross_validation, sort, n_select, budget_time, turbo, errors, fit_kwargs, groups, experiment_custom_tags, probability_threshold, engine, verbose, parallel)\u001b[0m\n\u001b[1;32m    680\u001b[0m \u001b[39m@check_if_global_is_not_none\u001b[39m(\u001b[39mglobals\u001b[39m(), _CURRENT_EXPERIMENT_DECORATOR_DICT)\n\u001b[1;32m    681\u001b[0m \u001b[39mdef\u001b[39;00m \u001b[39mcompare_models\u001b[39m(\n\u001b[1;32m    682\u001b[0m     include: Optional[List[Union[\u001b[39mstr\u001b[39m, Any]]] \u001b[39m=\u001b[39m \u001b[39mNone\u001b[39;00m,\n\u001b[0;32m   (...)\u001b[0m\n\u001b[1;32m    698\u001b[0m     parallel: Optional[ParallelBackend] \u001b[39m=\u001b[39m \u001b[39mNone\u001b[39;00m,\n\u001b[1;32m    699\u001b[0m ) \u001b[39m-\u001b[39m\u001b[39m>\u001b[39m Union[Any, List[Any]]:\n\u001b[1;32m    700\u001b[0m \u001b[39m    \u001b[39m\u001b[39m\"\"\"\u001b[39;00m\n\u001b[1;32m    701\u001b[0m \u001b[39m    This function trains and evaluates performance of all estimators available in the\u001b[39;00m\n\u001b[1;32m    702\u001b[0m \u001b[39m    model library using cross validation. The output of this function is a score grid\u001b[39;00m\n\u001b[0;32m   (...)\u001b[0m\n\u001b[1;32m    819\u001b[0m \u001b[39m    - No models are logged in ``MLFlow`` when ``cross_validation`` parameter is False.\u001b[39;00m\n\u001b[1;32m    820\u001b[0m \u001b[39m    \"\"\"\u001b[39;00m\n\u001b[0;32m--> 822\u001b[0m     \u001b[39mreturn\u001b[39;00m _CURRENT_EXPERIMENT\u001b[39m.\u001b[39;49mcompare_models(\n\u001b[1;32m    823\u001b[0m         include\u001b[39m=\u001b[39;49minclude,\n\u001b[1;32m    824\u001b[0m         exclude\u001b[39m=\u001b[39;49mexclude,\n\u001b[1;32m    825\u001b[0m         fold\u001b[39m=\u001b[39;49mfold,\n\u001b[1;32m    826\u001b[0m         \u001b[39mround\u001b[39;49m\u001b[39m=\u001b[39;49m\u001b[39mround\u001b[39;49m,\n\u001b[1;32m    827\u001b[0m         cross_validation\u001b[39m=\u001b[39;49mcross_validation,\n\u001b[1;32m    828\u001b[0m         sort\u001b[39m=\u001b[39;49msort,\n\u001b[1;32m    829\u001b[0m         n_select\u001b[39m=\u001b[39;49mn_select,\n\u001b[1;32m    830\u001b[0m         budget_time\u001b[39m=\u001b[39;49mbudget_time,\n\u001b[1;32m    831\u001b[0m         turbo\u001b[39m=\u001b[39;49mturbo,\n\u001b[1;32m    832\u001b[0m         errors\u001b[39m=\u001b[39;49merrors,\n\u001b[1;32m    833\u001b[0m         fit_kwargs\u001b[39m=\u001b[39;49mfit_kwargs,\n\u001b[1;32m    834\u001b[0m         groups\u001b[39m=\u001b[39;49mgroups,\n\u001b[1;32m    835\u001b[0m         experiment_custom_tags\u001b[39m=\u001b[39;49mexperiment_custom_tags,\n\u001b[1;32m    836\u001b[0m         probability_threshold\u001b[39m=\u001b[39;49mprobability_threshold,\n\u001b[1;32m    837\u001b[0m         engine\u001b[39m=\u001b[39;49mengine,\n\u001b[1;32m    838\u001b[0m         verbose\u001b[39m=\u001b[39;49mverbose,\n\u001b[1;32m    839\u001b[0m         parallel\u001b[39m=\u001b[39;49mparallel,\n\u001b[1;32m    840\u001b[0m     )\n",
      "File \u001b[0;32m~/anaconda3/envs/salary/lib/python3.10/site-packages/pycaret/classification/oop.py:1190\u001b[0m, in \u001b[0;36mClassificationExperiment.compare_models\u001b[0;34m(self, include, exclude, fold, round, cross_validation, sort, n_select, budget_time, turbo, errors, fit_kwargs, groups, experiment_custom_tags, probability_threshold, engine, verbose, parallel)\u001b[0m\n\u001b[1;32m   1187\u001b[0m         \u001b[39mself\u001b[39m\u001b[39m.\u001b[39m_set_engine(estimator\u001b[39m=\u001b[39mestimator, engine\u001b[39m=\u001b[39meng, severity\u001b[39m=\u001b[39m\u001b[39m\"\u001b[39m\u001b[39merror\u001b[39m\u001b[39m\"\u001b[39m)\n\u001b[1;32m   1189\u001b[0m \u001b[39mtry\u001b[39;00m:\n\u001b[0;32m-> 1190\u001b[0m     return_values \u001b[39m=\u001b[39m \u001b[39msuper\u001b[39;49m()\u001b[39m.\u001b[39;49mcompare_models(\n\u001b[1;32m   1191\u001b[0m         include\u001b[39m=\u001b[39;49minclude,\n\u001b[1;32m   1192\u001b[0m         exclude\u001b[39m=\u001b[39;49mexclude,\n\u001b[1;32m   1193\u001b[0m         fold\u001b[39m=\u001b[39;49mfold,\n\u001b[1;32m   1194\u001b[0m         \u001b[39mround\u001b[39;49m\u001b[39m=\u001b[39;49m\u001b[39mround\u001b[39;49m,\n\u001b[1;32m   1195\u001b[0m         cross_validation\u001b[39m=\u001b[39;49mcross_validation,\n\u001b[1;32m   1196\u001b[0m         sort\u001b[39m=\u001b[39;49msort,\n\u001b[1;32m   1197\u001b[0m         n_select\u001b[39m=\u001b[39;49mn_select,\n\u001b[1;32m   1198\u001b[0m         budget_time\u001b[39m=\u001b[39;49mbudget_time,\n\u001b[1;32m   1199\u001b[0m         turbo\u001b[39m=\u001b[39;49mturbo,\n\u001b[1;32m   1200\u001b[0m         errors\u001b[39m=\u001b[39;49merrors,\n\u001b[1;32m   1201\u001b[0m         fit_kwargs\u001b[39m=\u001b[39;49mfit_kwargs,\n\u001b[1;32m   1202\u001b[0m         groups\u001b[39m=\u001b[39;49mgroups,\n\u001b[1;32m   1203\u001b[0m         experiment_custom_tags\u001b[39m=\u001b[39;49mexperiment_custom_tags,\n\u001b[1;32m   1204\u001b[0m         verbose\u001b[39m=\u001b[39;49mverbose,\n\u001b[1;32m   1205\u001b[0m         probability_threshold\u001b[39m=\u001b[39;49mprobability_threshold,\n\u001b[1;32m   1206\u001b[0m         parallel\u001b[39m=\u001b[39;49mparallel,\n\u001b[1;32m   1207\u001b[0m         caller_params\u001b[39m=\u001b[39;49mcaller_params,\n\u001b[1;32m   1208\u001b[0m     )\n\u001b[1;32m   1209\u001b[0m \u001b[39mfinally\u001b[39;00m:\n\u001b[1;32m   1210\u001b[0m     \u001b[39mif\u001b[39;00m engine \u001b[39mis\u001b[39;00m \u001b[39mnot\u001b[39;00m \u001b[39mNone\u001b[39;00m:\n\u001b[1;32m   1211\u001b[0m         \u001b[39m# Reset the models back to the default engines\u001b[39;00m\n",
      "File \u001b[0;32m~/anaconda3/envs/salary/lib/python3.10/site-packages/pycaret/internal/pycaret_experiment/supervised_experiment.py:528\u001b[0m, in \u001b[0;36m_SupervisedExperiment.compare_models\u001b[0;34m(self, include, exclude, fold, round, cross_validation, sort, n_select, budget_time, turbo, errors, fit_kwargs, groups, experiment_custom_tags, probability_threshold, verbose, parallel, caller_params)\u001b[0m\n\u001b[1;32m    366\u001b[0m \u001b[39mdef\u001b[39;00m \u001b[39mcompare_models\u001b[39m(\n\u001b[1;32m    367\u001b[0m     \u001b[39mself\u001b[39m,\n\u001b[1;32m    368\u001b[0m     include: Optional[\n\u001b[0;32m   (...)\u001b[0m\n\u001b[1;32m    388\u001b[0m     caller_params: Optional[\u001b[39mdict\u001b[39m] \u001b[39m=\u001b[39m \u001b[39mNone\u001b[39;00m,\n\u001b[1;32m    389\u001b[0m ) \u001b[39m-\u001b[39m\u001b[39m>\u001b[39m List[Any]:\n\u001b[1;32m    390\u001b[0m \u001b[39m    \u001b[39m\u001b[39m\"\"\"\u001b[39;00m\n\u001b[1;32m    391\u001b[0m \u001b[39m    This function train all the models available in the model library and scores them\u001b[39;00m\n\u001b[1;32m    392\u001b[0m \u001b[39m    using Cross Validation. The output prints a score grid with Accuracy,\u001b[39;00m\n\u001b[0;32m   (...)\u001b[0m\n\u001b[1;32m    526\u001b[0m \n\u001b[1;32m    527\u001b[0m \u001b[39m    \"\"\"\u001b[39;00m\n\u001b[0;32m--> 528\u001b[0m     \u001b[39mself\u001b[39;49m\u001b[39m.\u001b[39;49m_check_setup_ran()\n\u001b[1;32m    530\u001b[0m     \u001b[39mif\u001b[39;00m parallel \u001b[39mis\u001b[39;00m \u001b[39mnot\u001b[39;00m \u001b[39mNone\u001b[39;00m:\n\u001b[1;32m    531\u001b[0m         \u001b[39mreturn\u001b[39;00m \u001b[39mself\u001b[39m\u001b[39m.\u001b[39m_parallel_compare_models(parallel, caller_params, turbo\u001b[39m=\u001b[39mturbo)\n",
      "File \u001b[0;32m~/anaconda3/envs/salary/lib/python3.10/site-packages/pycaret/internal/pycaret_experiment/pycaret_experiment.py:138\u001b[0m, in \u001b[0;36m_PyCaretExperiment._check_setup_ran\u001b[0;34m(self)\u001b[0m\n\u001b[1;32m    127\u001b[0m \u001b[39m\u001b[39m\u001b[39m\"\"\"Checks to see if setup has been run or not. If it has not been run, then\u001b[39;00m\n\u001b[1;32m    128\u001b[0m \u001b[39man error is raised. Useful for operations that require setup to be run before\u001b[39;00m\n\u001b[1;32m    129\u001b[0m \u001b[39mthey can be executed. e.g. in some experiments, setup must be run first before\u001b[39;00m\n\u001b[0;32m   (...)\u001b[0m\n\u001b[1;32m    135\u001b[0m \u001b[39m    If setup has not been run.\u001b[39;00m\n\u001b[1;32m    136\u001b[0m \u001b[39m\"\"\"\u001b[39;00m\n\u001b[1;32m    137\u001b[0m \u001b[39mif\u001b[39;00m \u001b[39mnot\u001b[39;00m \u001b[39mself\u001b[39m\u001b[39m.\u001b[39m_setup_ran:\n\u001b[0;32m--> 138\u001b[0m     \u001b[39mraise\u001b[39;00m \u001b[39mRuntimeError\u001b[39;00m(\n\u001b[1;32m    139\u001b[0m         \u001b[39m\"\u001b[39m\u001b[39mThis function/method requires the users to run setup() first.\u001b[39m\u001b[39m\"\u001b[39m\n\u001b[1;32m    140\u001b[0m         \u001b[39m\"\u001b[39m\u001b[39m\\n\u001b[39;00m\u001b[39mMore info: https://pycaret.gitbook.io/docs/get-started/quickstart\u001b[39m\u001b[39m\"\u001b[39m\n\u001b[1;32m    141\u001b[0m     )\n",
      "\u001b[0;31mRuntimeError\u001b[0m: This function/method requires the users to run setup() first.\nMore info: https://pycaret.gitbook.io/docs/get-started/quickstart"
     ]
    }
   ],
   "source": [
    "best = compare_models(sort='AUC')"
   ]
  },
  {
   "cell_type": "code",
   "execution_count": 12,
   "metadata": {},
   "outputs": [
    {
     "data": {
      "text/html": [
       "<style type=\"text/css\">\n",
       "#T_50224_row10_col0, #T_50224_row10_col1, #T_50224_row10_col2, #T_50224_row10_col3, #T_50224_row10_col4, #T_50224_row10_col5, #T_50224_row10_col6 {\n",
       "  background: yellow;\n",
       "}\n",
       "</style>\n",
       "<table id=\"T_50224\">\n",
       "  <thead>\n",
       "    <tr>\n",
       "      <th class=\"blank level0\" >&nbsp;</th>\n",
       "      <th id=\"T_50224_level0_col0\" class=\"col_heading level0 col0\" >Accuracy</th>\n",
       "      <th id=\"T_50224_level0_col1\" class=\"col_heading level0 col1\" >AUC</th>\n",
       "      <th id=\"T_50224_level0_col2\" class=\"col_heading level0 col2\" >Recall</th>\n",
       "      <th id=\"T_50224_level0_col3\" class=\"col_heading level0 col3\" >Prec.</th>\n",
       "      <th id=\"T_50224_level0_col4\" class=\"col_heading level0 col4\" >F1</th>\n",
       "      <th id=\"T_50224_level0_col5\" class=\"col_heading level0 col5\" >Kappa</th>\n",
       "      <th id=\"T_50224_level0_col6\" class=\"col_heading level0 col6\" >MCC</th>\n",
       "    </tr>\n",
       "    <tr>\n",
       "      <th class=\"index_name level0\" >Fold</th>\n",
       "      <th class=\"blank col0\" >&nbsp;</th>\n",
       "      <th class=\"blank col1\" >&nbsp;</th>\n",
       "      <th class=\"blank col2\" >&nbsp;</th>\n",
       "      <th class=\"blank col3\" >&nbsp;</th>\n",
       "      <th class=\"blank col4\" >&nbsp;</th>\n",
       "      <th class=\"blank col5\" >&nbsp;</th>\n",
       "      <th class=\"blank col6\" >&nbsp;</th>\n",
       "    </tr>\n",
       "  </thead>\n",
       "  <tbody>\n",
       "    <tr>\n",
       "      <th id=\"T_50224_level0_row0\" class=\"row_heading level0 row0\" >0</th>\n",
       "      <td id=\"T_50224_row0_col0\" class=\"data row0 col0\" >0.2832</td>\n",
       "      <td id=\"T_50224_row0_col1\" class=\"data row0 col1\" >0.7041</td>\n",
       "      <td id=\"T_50224_row0_col2\" class=\"data row0 col2\" >0.2832</td>\n",
       "      <td id=\"T_50224_row0_col3\" class=\"data row0 col3\" >0.3043</td>\n",
       "      <td id=\"T_50224_row0_col4\" class=\"data row0 col4\" >0.2599</td>\n",
       "      <td id=\"T_50224_row0_col5\" class=\"data row0 col5\" >0.1631</td>\n",
       "      <td id=\"T_50224_row0_col6\" class=\"data row0 col6\" >0.1713</td>\n",
       "    </tr>\n",
       "    <tr>\n",
       "      <th id=\"T_50224_level0_row1\" class=\"row_heading level0 row1\" >1</th>\n",
       "      <td id=\"T_50224_row1_col0\" class=\"data row1 col0\" >0.2832</td>\n",
       "      <td id=\"T_50224_row1_col1\" class=\"data row1 col1\" >0.6976</td>\n",
       "      <td id=\"T_50224_row1_col2\" class=\"data row1 col2\" >0.2832</td>\n",
       "      <td id=\"T_50224_row1_col3\" class=\"data row1 col3\" >0.3043</td>\n",
       "      <td id=\"T_50224_row1_col4\" class=\"data row1 col4\" >0.2740</td>\n",
       "      <td id=\"T_50224_row1_col5\" class=\"data row1 col5\" >0.1632</td>\n",
       "      <td id=\"T_50224_row1_col6\" class=\"data row1 col6\" >0.1676</td>\n",
       "    </tr>\n",
       "    <tr>\n",
       "      <th id=\"T_50224_level0_row2\" class=\"row_heading level0 row2\" >2</th>\n",
       "      <td id=\"T_50224_row2_col0\" class=\"data row2 col0\" >0.3142</td>\n",
       "      <td id=\"T_50224_row2_col1\" class=\"data row2 col1\" >0.6964</td>\n",
       "      <td id=\"T_50224_row2_col2\" class=\"data row2 col2\" >0.3142</td>\n",
       "      <td id=\"T_50224_row2_col3\" class=\"data row2 col3\" >0.3144</td>\n",
       "      <td id=\"T_50224_row2_col4\" class=\"data row2 col4\" >0.2954</td>\n",
       "      <td id=\"T_50224_row2_col5\" class=\"data row2 col5\" >0.1995</td>\n",
       "      <td id=\"T_50224_row2_col6\" class=\"data row2 col6\" >0.2033</td>\n",
       "    </tr>\n",
       "    <tr>\n",
       "      <th id=\"T_50224_level0_row3\" class=\"row_heading level0 row3\" >3</th>\n",
       "      <td id=\"T_50224_row3_col0\" class=\"data row3 col0\" >0.2978</td>\n",
       "      <td id=\"T_50224_row3_col1\" class=\"data row3 col1\" >0.6812</td>\n",
       "      <td id=\"T_50224_row3_col2\" class=\"data row3 col2\" >0.2978</td>\n",
       "      <td id=\"T_50224_row3_col3\" class=\"data row3 col3\" >0.3033</td>\n",
       "      <td id=\"T_50224_row3_col4\" class=\"data row3 col4\" >0.2844</td>\n",
       "      <td id=\"T_50224_row3_col5\" class=\"data row3 col5\" >0.1802</td>\n",
       "      <td id=\"T_50224_row3_col6\" class=\"data row3 col6\" >0.1827</td>\n",
       "    </tr>\n",
       "    <tr>\n",
       "      <th id=\"T_50224_level0_row4\" class=\"row_heading level0 row4\" >4</th>\n",
       "      <td id=\"T_50224_row4_col0\" class=\"data row4 col0\" >0.2667</td>\n",
       "      <td id=\"T_50224_row4_col1\" class=\"data row4 col1\" >0.6471</td>\n",
       "      <td id=\"T_50224_row4_col2\" class=\"data row4 col2\" >0.2667</td>\n",
       "      <td id=\"T_50224_row4_col3\" class=\"data row4 col3\" >0.2684</td>\n",
       "      <td id=\"T_50224_row4_col4\" class=\"data row4 col4\" >0.2624</td>\n",
       "      <td id=\"T_50224_row4_col5\" class=\"data row4 col5\" >0.1441</td>\n",
       "      <td id=\"T_50224_row4_col6\" class=\"data row4 col6\" >0.1451</td>\n",
       "    </tr>\n",
       "    <tr>\n",
       "      <th id=\"T_50224_level0_row5\" class=\"row_heading level0 row5\" >5</th>\n",
       "      <td id=\"T_50224_row5_col0\" class=\"data row5 col0\" >0.3156</td>\n",
       "      <td id=\"T_50224_row5_col1\" class=\"data row5 col1\" >0.7116</td>\n",
       "      <td id=\"T_50224_row5_col2\" class=\"data row5 col2\" >0.3156</td>\n",
       "      <td id=\"T_50224_row5_col3\" class=\"data row5 col3\" >0.2757</td>\n",
       "      <td id=\"T_50224_row5_col4\" class=\"data row5 col4\" >0.2876</td>\n",
       "      <td id=\"T_50224_row5_col5\" class=\"data row5 col5\" >0.2012</td>\n",
       "      <td id=\"T_50224_row5_col6\" class=\"data row5 col6\" >0.2046</td>\n",
       "    </tr>\n",
       "    <tr>\n",
       "      <th id=\"T_50224_level0_row6\" class=\"row_heading level0 row6\" >6</th>\n",
       "      <td id=\"T_50224_row6_col0\" class=\"data row6 col0\" >0.3156</td>\n",
       "      <td id=\"T_50224_row6_col1\" class=\"data row6 col1\" >0.6863</td>\n",
       "      <td id=\"T_50224_row6_col2\" class=\"data row6 col2\" >0.3156</td>\n",
       "      <td id=\"T_50224_row6_col3\" class=\"data row6 col3\" >0.3507</td>\n",
       "      <td id=\"T_50224_row6_col4\" class=\"data row6 col4\" >0.2870</td>\n",
       "      <td id=\"T_50224_row6_col5\" class=\"data row6 col5\" >0.2010</td>\n",
       "      <td id=\"T_50224_row6_col6\" class=\"data row6 col6\" >0.2061</td>\n",
       "    </tr>\n",
       "    <tr>\n",
       "      <th id=\"T_50224_level0_row7\" class=\"row_heading level0 row7\" >7</th>\n",
       "      <td id=\"T_50224_row7_col0\" class=\"data row7 col0\" >0.3111</td>\n",
       "      <td id=\"T_50224_row7_col1\" class=\"data row7 col1\" >0.7003</td>\n",
       "      <td id=\"T_50224_row7_col2\" class=\"data row7 col2\" >0.3111</td>\n",
       "      <td id=\"T_50224_row7_col3\" class=\"data row7 col3\" >0.3115</td>\n",
       "      <td id=\"T_50224_row7_col4\" class=\"data row7 col4\" >0.3033</td>\n",
       "      <td id=\"T_50224_row7_col5\" class=\"data row7 col5\" >0.1957</td>\n",
       "      <td id=\"T_50224_row7_col6\" class=\"data row7 col6\" >0.1985</td>\n",
       "    </tr>\n",
       "    <tr>\n",
       "      <th id=\"T_50224_level0_row8\" class=\"row_heading level0 row8\" >8</th>\n",
       "      <td id=\"T_50224_row8_col0\" class=\"data row8 col0\" >0.3200</td>\n",
       "      <td id=\"T_50224_row8_col1\" class=\"data row8 col1\" >0.7209</td>\n",
       "      <td id=\"T_50224_row8_col2\" class=\"data row8 col2\" >0.3200</td>\n",
       "      <td id=\"T_50224_row8_col3\" class=\"data row8 col3\" >0.3554</td>\n",
       "      <td id=\"T_50224_row8_col4\" class=\"data row8 col4\" >0.3153</td>\n",
       "      <td id=\"T_50224_row8_col5\" class=\"data row8 col5\" >0.2065</td>\n",
       "      <td id=\"T_50224_row8_col6\" class=\"data row8 col6\" >0.2091</td>\n",
       "    </tr>\n",
       "    <tr>\n",
       "      <th id=\"T_50224_level0_row9\" class=\"row_heading level0 row9\" >9</th>\n",
       "      <td id=\"T_50224_row9_col0\" class=\"data row9 col0\" >0.3244</td>\n",
       "      <td id=\"T_50224_row9_col1\" class=\"data row9 col1\" >0.7020</td>\n",
       "      <td id=\"T_50224_row9_col2\" class=\"data row9 col2\" >0.3244</td>\n",
       "      <td id=\"T_50224_row9_col3\" class=\"data row9 col3\" >0.3543</td>\n",
       "      <td id=\"T_50224_row9_col4\" class=\"data row9 col4\" >0.3079</td>\n",
       "      <td id=\"T_50224_row9_col5\" class=\"data row9 col5\" >0.2117</td>\n",
       "      <td id=\"T_50224_row9_col6\" class=\"data row9 col6\" >0.2172</td>\n",
       "    </tr>\n",
       "    <tr>\n",
       "      <th id=\"T_50224_level0_row10\" class=\"row_heading level0 row10\" >Mean</th>\n",
       "      <td id=\"T_50224_row10_col0\" class=\"data row10 col0\" >0.3032</td>\n",
       "      <td id=\"T_50224_row10_col1\" class=\"data row10 col1\" >0.6947</td>\n",
       "      <td id=\"T_50224_row10_col2\" class=\"data row10 col2\" >0.3032</td>\n",
       "      <td id=\"T_50224_row10_col3\" class=\"data row10 col3\" >0.3142</td>\n",
       "      <td id=\"T_50224_row10_col4\" class=\"data row10 col4\" >0.2877</td>\n",
       "      <td id=\"T_50224_row10_col5\" class=\"data row10 col5\" >0.1866</td>\n",
       "      <td id=\"T_50224_row10_col6\" class=\"data row10 col6\" >0.1905</td>\n",
       "    </tr>\n",
       "    <tr>\n",
       "      <th id=\"T_50224_level0_row11\" class=\"row_heading level0 row11\" >Std</th>\n",
       "      <td id=\"T_50224_row11_col0\" class=\"data row11 col0\" >0.0184</td>\n",
       "      <td id=\"T_50224_row11_col1\" class=\"data row11 col1\" >0.0192</td>\n",
       "      <td id=\"T_50224_row11_col2\" class=\"data row11 col2\" >0.0184</td>\n",
       "      <td id=\"T_50224_row11_col3\" class=\"data row11 col3\" >0.0292</td>\n",
       "      <td id=\"T_50224_row11_col4\" class=\"data row11 col4\" >0.0176</td>\n",
       "      <td id=\"T_50224_row11_col5\" class=\"data row11 col5\" >0.0216</td>\n",
       "      <td id=\"T_50224_row11_col6\" class=\"data row11 col6\" >0.0218</td>\n",
       "    </tr>\n",
       "  </tbody>\n",
       "</table>\n"
      ],
      "text/plain": [
       "<pandas.io.formats.style.Styler at 0x7fdaa19ee3e0>"
      ]
     },
     "metadata": {},
     "output_type": "display_data"
    }
   ],
   "source": [
    "best_tuned = tune_model(best)"
   ]
  },
  {
   "cell_type": "code",
   "execution_count": 14,
   "metadata": {},
   "outputs": [],
   "source": [
    "final_model = finalize_model(best)"
   ]
  },
  {
   "cell_type": "code",
   "execution_count": 16,
   "metadata": {},
   "outputs": [],
   "source": [
    "pred = final_model.predict(X_train.drop(columns='y'))"
   ]
  },
  {
   "cell_type": "code",
   "execution_count": 17,
   "metadata": {},
   "outputs": [],
   "source": [
    "from sklearn.metrics import classification_report, roc_auc_score"
   ]
  },
  {
   "cell_type": "code",
   "execution_count": 18,
   "metadata": {},
   "outputs": [
    {
     "name": "stdout",
     "output_type": "stream",
     "text": [
      "              precision    recall  f1-score   support\n",
      "\n",
      "         0.0       0.63      0.74      0.68       319\n",
      "         1.0       0.33      0.37      0.35       313\n",
      "         2.0       0.35      0.28      0.31       321\n",
      "         3.0       0.26      0.17      0.21       327\n",
      "         4.0       0.35      0.11      0.17       324\n",
      "         5.0       0.28      0.62      0.38       329\n",
      "         6.0       0.31      0.20      0.24       320\n",
      "\n",
      "    accuracy                           0.36      2253\n",
      "   macro avg       0.36      0.36      0.33      2253\n",
      "weighted avg       0.36      0.36      0.33      2253\n",
      "\n"
     ]
    }
   ],
   "source": [
    "print(classification_report(y_train, pred))"
   ]
  },
  {
   "cell_type": "code",
   "execution_count": 24,
   "metadata": {},
   "outputs": [
    {
     "data": {
      "text/html": [
       "<style type=\"text/css\">\n",
       "</style>\n",
       "<table id=\"T_43126\">\n",
       "  <thead>\n",
       "    <tr>\n",
       "      <th class=\"blank level0\" >&nbsp;</th>\n",
       "      <th id=\"T_43126_level0_col0\" class=\"col_heading level0 col0\" >Model</th>\n",
       "      <th id=\"T_43126_level0_col1\" class=\"col_heading level0 col1\" >Accuracy</th>\n",
       "      <th id=\"T_43126_level0_col2\" class=\"col_heading level0 col2\" >AUC</th>\n",
       "      <th id=\"T_43126_level0_col3\" class=\"col_heading level0 col3\" >Recall</th>\n",
       "      <th id=\"T_43126_level0_col4\" class=\"col_heading level0 col4\" >Prec.</th>\n",
       "      <th id=\"T_43126_level0_col5\" class=\"col_heading level0 col5\" >F1</th>\n",
       "      <th id=\"T_43126_level0_col6\" class=\"col_heading level0 col6\" >Kappa</th>\n",
       "      <th id=\"T_43126_level0_col7\" class=\"col_heading level0 col7\" >MCC</th>\n",
       "    </tr>\n",
       "  </thead>\n",
       "  <tbody>\n",
       "    <tr>\n",
       "      <th id=\"T_43126_level0_row0\" class=\"row_heading level0 row0\" >0</th>\n",
       "      <td id=\"T_43126_row0_col0\" class=\"data row0 col0\" >Gradient Boosting Classifier</td>\n",
       "      <td id=\"T_43126_row0_col1\" class=\"data row0 col1\" >0.3409</td>\n",
       "      <td id=\"T_43126_row0_col2\" class=\"data row0 col2\" >0.7448</td>\n",
       "      <td id=\"T_43126_row0_col3\" class=\"data row0 col3\" >0.3409</td>\n",
       "      <td id=\"T_43126_row0_col4\" class=\"data row0 col4\" >0.3409</td>\n",
       "      <td id=\"T_43126_row0_col5\" class=\"data row0 col5\" >0.3228</td>\n",
       "      <td id=\"T_43126_row0_col6\" class=\"data row0 col6\" >0.2287</td>\n",
       "      <td id=\"T_43126_row0_col7\" class=\"data row0 col7\" >0.2339</td>\n",
       "    </tr>\n",
       "  </tbody>\n",
       "</table>\n"
      ],
      "text/plain": [
       "<pandas.io.formats.style.Styler at 0x7fdaa0d17250>"
      ]
     },
     "metadata": {},
     "output_type": "display_data"
    },
    {
     "ename": "IndexError",
     "evalue": "only integers, slices (`:`), ellipsis (`...`), numpy.newaxis (`None`) and integer or boolean arrays are valid indices",
     "output_type": "error",
     "traceback": [
      "\u001b[0;31m---------------------------------------------------------------------------\u001b[0m",
      "\u001b[0;31mIndexError\u001b[0m                                Traceback (most recent call last)",
      "Cell \u001b[0;32mIn[24], line 1\u001b[0m\n\u001b[0;32m----> 1\u001b[0m predict_model(final_model)\n",
      "File \u001b[0;32m~/anaconda3/envs/salary/lib/python3.10/site-packages/pycaret/classification/functional.py:2188\u001b[0m, in \u001b[0;36mpredict_model\u001b[0;34m(estimator, data, probability_threshold, encoded_labels, raw_score, round, verbose)\u001b[0m\n\u001b[1;32m   2185\u001b[0m \u001b[39mif\u001b[39;00m experiment \u001b[39mis\u001b[39;00m \u001b[39mNone\u001b[39;00m:\n\u001b[1;32m   2186\u001b[0m     experiment \u001b[39m=\u001b[39m _EXPERIMENT_CLASS()\n\u001b[0;32m-> 2188\u001b[0m \u001b[39mreturn\u001b[39;00m experiment\u001b[39m.\u001b[39;49mpredict_model(\n\u001b[1;32m   2189\u001b[0m     estimator\u001b[39m=\u001b[39;49mestimator,\n\u001b[1;32m   2190\u001b[0m     data\u001b[39m=\u001b[39;49mdata,\n\u001b[1;32m   2191\u001b[0m     probability_threshold\u001b[39m=\u001b[39;49mprobability_threshold,\n\u001b[1;32m   2192\u001b[0m     encoded_labels\u001b[39m=\u001b[39;49mencoded_labels,\n\u001b[1;32m   2193\u001b[0m     raw_score\u001b[39m=\u001b[39;49mraw_score,\n\u001b[1;32m   2194\u001b[0m     \u001b[39mround\u001b[39;49m\u001b[39m=\u001b[39;49m\u001b[39mround\u001b[39;49m,\n\u001b[1;32m   2195\u001b[0m     verbose\u001b[39m=\u001b[39;49mverbose,\n\u001b[1;32m   2196\u001b[0m )\n",
      "File \u001b[0;32m~/anaconda3/envs/salary/lib/python3.10/site-packages/pycaret/classification/oop.py:2830\u001b[0m, in \u001b[0;36mClassificationExperiment.predict_model\u001b[0;34m(self, estimator, data, probability_threshold, encoded_labels, raw_score, round, verbose)\u001b[0m\n\u001b[1;32m   2758\u001b[0m \u001b[39mdef\u001b[39;00m \u001b[39mpredict_model\u001b[39m(\n\u001b[1;32m   2759\u001b[0m     \u001b[39mself\u001b[39m,\n\u001b[1;32m   2760\u001b[0m     estimator,\n\u001b[0;32m   (...)\u001b[0m\n\u001b[1;32m   2766\u001b[0m     verbose: \u001b[39mbool\u001b[39m \u001b[39m=\u001b[39m \u001b[39mTrue\u001b[39;00m,\n\u001b[1;32m   2767\u001b[0m ) \u001b[39m-\u001b[39m\u001b[39m>\u001b[39m pd\u001b[39m.\u001b[39mDataFrame:\n\u001b[1;32m   2768\u001b[0m \u001b[39m    \u001b[39m\u001b[39m\"\"\"\u001b[39;00m\n\u001b[1;32m   2769\u001b[0m \u001b[39m    This function predicts ``Label`` and ``Score`` (probability of predicted\u001b[39;00m\n\u001b[1;32m   2770\u001b[0m \u001b[39m    class) using a trained model. When ``data`` is None, it predicts label and\u001b[39;00m\n\u001b[0;32m   (...)\u001b[0m\n\u001b[1;32m   2827\u001b[0m \n\u001b[1;32m   2828\u001b[0m \u001b[39m    \"\"\"\u001b[39;00m\n\u001b[0;32m-> 2830\u001b[0m     \u001b[39mreturn\u001b[39;00m \u001b[39msuper\u001b[39;49m()\u001b[39m.\u001b[39;49mpredict_model(\n\u001b[1;32m   2831\u001b[0m         estimator\u001b[39m=\u001b[39;49mestimator,\n\u001b[1;32m   2832\u001b[0m         data\u001b[39m=\u001b[39;49mdata,\n\u001b[1;32m   2833\u001b[0m         probability_threshold\u001b[39m=\u001b[39;49mprobability_threshold,\n\u001b[1;32m   2834\u001b[0m         encoded_labels\u001b[39m=\u001b[39;49mencoded_labels,\n\u001b[1;32m   2835\u001b[0m         raw_score\u001b[39m=\u001b[39;49mraw_score,\n\u001b[1;32m   2836\u001b[0m         \u001b[39mround\u001b[39;49m\u001b[39m=\u001b[39;49m\u001b[39mround\u001b[39;49m,\n\u001b[1;32m   2837\u001b[0m         verbose\u001b[39m=\u001b[39;49mverbose,\n\u001b[1;32m   2838\u001b[0m     )\n",
      "File \u001b[0;32m~/anaconda3/envs/salary/lib/python3.10/site-packages/pycaret/internal/pycaret_experiment/supervised_experiment.py:5021\u001b[0m, in \u001b[0;36m_SupervisedExperiment.predict_model\u001b[0;34m(self, estimator, data, probability_threshold, encoded_labels, raw_score, round, verbose, ml_usecase, preprocess)\u001b[0m\n\u001b[1;32m   5017\u001b[0m     \u001b[39mif\u001b[39;00m label_encoder:\n\u001b[1;32m   5018\u001b[0m         pred \u001b[39m=\u001b[39m label_encoder\u001b[39m.\u001b[39mtransform(pred)\n\u001b[1;32m   5020\u001b[0m     score \u001b[39m=\u001b[39m pd\u001b[39m.\u001b[39mDataFrame(\n\u001b[0;32m-> 5021\u001b[0m         data\u001b[39m=\u001b[39m[s[pred[i]] \u001b[39mfor\u001b[39;00m i, s \u001b[39min\u001b[39;00m \u001b[39menumerate\u001b[39m(score)],\n\u001b[1;32m   5022\u001b[0m         index\u001b[39m=\u001b[39mX_test_\u001b[39m.\u001b[39mindex,\n\u001b[1;32m   5023\u001b[0m         columns\u001b[39m=\u001b[39m[SCORE_COLUMN],\n\u001b[1;32m   5024\u001b[0m     )\n\u001b[1;32m   5025\u001b[0m \u001b[39melse\u001b[39;00m:\n\u001b[1;32m   5026\u001b[0m     \u001b[39mif\u001b[39;00m \u001b[39mnot\u001b[39;00m encoded_labels:\n",
      "File \u001b[0;32m~/anaconda3/envs/salary/lib/python3.10/site-packages/pycaret/internal/pycaret_experiment/supervised_experiment.py:5021\u001b[0m, in \u001b[0;36m<listcomp>\u001b[0;34m(.0)\u001b[0m\n\u001b[1;32m   5017\u001b[0m     \u001b[39mif\u001b[39;00m label_encoder:\n\u001b[1;32m   5018\u001b[0m         pred \u001b[39m=\u001b[39m label_encoder\u001b[39m.\u001b[39mtransform(pred)\n\u001b[1;32m   5020\u001b[0m     score \u001b[39m=\u001b[39m pd\u001b[39m.\u001b[39mDataFrame(\n\u001b[0;32m-> 5021\u001b[0m         data\u001b[39m=\u001b[39m[s[pred[i]] \u001b[39mfor\u001b[39;00m i, s \u001b[39min\u001b[39;00m \u001b[39menumerate\u001b[39m(score)],\n\u001b[1;32m   5022\u001b[0m         index\u001b[39m=\u001b[39mX_test_\u001b[39m.\u001b[39mindex,\n\u001b[1;32m   5023\u001b[0m         columns\u001b[39m=\u001b[39m[SCORE_COLUMN],\n\u001b[1;32m   5024\u001b[0m     )\n\u001b[1;32m   5025\u001b[0m \u001b[39melse\u001b[39;00m:\n\u001b[1;32m   5026\u001b[0m     \u001b[39mif\u001b[39;00m \u001b[39mnot\u001b[39;00m encoded_labels:\n",
      "\u001b[0;31mIndexError\u001b[0m: only integers, slices (`:`), ellipsis (`...`), numpy.newaxis (`None`) and integer or boolean arrays are valid indices"
     ]
    }
   ],
   "source": [
    "predict_model(final_model)"
   ]
  },
  {
   "cell_type": "code",
   "execution_count": null,
   "metadata": {},
   "outputs": [],
   "source": []
  }
 ],
 "metadata": {
  "kernelspec": {
   "display_name": "salary",
   "language": "python",
   "name": "python3"
  },
  "language_info": {
   "codemirror_mode": {
    "name": "ipython",
    "version": 3
   },
   "file_extension": ".py",
   "mimetype": "text/x-python",
   "name": "python",
   "nbconvert_exporter": "python",
   "pygments_lexer": "ipython3",
   "version": "3.10.11"
  },
  "orig_nbformat": 4,
  "vscode": {
   "interpreter": {
    "hash": "6439a59ccbef1e798ba20dda1e08548cbec8bcaa5b2d23c548359dec22e90854"
   }
  }
 },
 "nbformat": 4,
 "nbformat_minor": 2
}
