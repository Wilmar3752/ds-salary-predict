{
 "cells": [
  {
   "cell_type": "code",
   "execution_count": null,
   "metadata": {},
   "outputs": [],
   "source": [
    "import pandas as pd\n",
    "import polars as pl\n",
    "import time\n",
    "\n",
    "# Generar un conjunto de datos grande\n",
    "n = 1000000000\n",
    "data = pd.DataFrame({'column1': range(n)})\n",
    "\n",
    "# Convertir el DataFrame de Pandas a Polars DataFrame\n",
    "polars_data = pl.from_pandas(data)\n",
    "\n",
    "# Realizar el filtrado en Pandas y medir el tiempo de ejecución\n",
    "start_time = time.time()\n",
    "filtered_pandas = data[data['column1'] > n/2]\n",
    "pandas_execution_time = time.time() - start_time\n",
    "\n",
    "# Realizar el filtrado en Polars y medir el tiempo de ejecución\n",
    "start_time = time.time()\n",
    "filtered_polars = polars_data.filter(pl.col('column1') > n/2)\n",
    "polars_execution_time = time.time() - start_time\n",
    "\n",
    "# Comparar los resultados\n",
    "print(\"Pandas execution time:\", pandas_execution_time)\n",
    "print(\"Polars execution time:\", polars_execution_time)\n",
    "print('Mejora en rendimiento:', 100*(pandas_execution_time-polars_execution_time)/pandas_execution_time)"
   ]
  }
 ],
 "metadata": {
  "kernelspec": {
   "display_name": "salary",
   "language": "python",
   "name": "python3"
  },
  "language_info": {
   "name": "python",
   "version": "3.10.11"
  },
  "orig_nbformat": 4,
  "vscode": {
   "interpreter": {
    "hash": "6439a59ccbef1e798ba20dda1e08548cbec8bcaa5b2d23c548359dec22e90854"
   }
  }
 },
 "nbformat": 4,
 "nbformat_minor": 2
}
