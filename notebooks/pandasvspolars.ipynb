{
 "cells": [
  {
   "cell_type": "code",
   "execution_count": 4,
   "metadata": {},
   "outputs": [
    {
     "name": "stdout",
     "output_type": "stream",
     "text": [
      "Pandas execution time: 23.80734920501709\n",
      "Polars execution time: 9.102252721786499\n",
      "Mejora en rendimiento: 61.77 %\n"
     ]
    }
   ],
   "source": [
    "import pandas as pd\n",
    "import polars as pl\n",
    "import time\n",
    "\n",
    "# Generar un conjunto de datos grande\n",
    "n = 500000000\n",
    "data = pd.DataFrame({'column1': range(n)})\n",
    "\n",
    "# Convertir el DataFrame de Pandas a Polars DataFrame\n",
    "polars_data = pl.from_pandas(data)\n",
    "\n",
    "# Realizar el filtrado en Pandas y medir el tiempo de ejecución\n",
    "start_time = time.time()\n",
    "filtered_pandas = data[data['column1'] > n/2]\n",
    "pandas_execution_time = time.time() - start_time\n",
    "\n",
    "# Realizar el filtrado en Polars y medir el tiempo de ejecución\n",
    "start_time = time.time()\n",
    "filtered_polars = polars_data.filter(pl.col('column1') > n/2)\n",
    "polars_execution_time = time.time() - start_time\n",
    "\n",
    "# Calcular la mejora porcentual\n",
    "improvement_percentage = ((pandas_execution_time - polars_execution_time) / pandas_execution_time) * 100\n",
    "\n",
    "# Comparar los resultados\n",
    "print(\"Pandas execution time:\", pandas_execution_time)\n",
    "print(\"Polars execution time:\", polars_execution_time)\n",
    "print('Mejora en rendimiento:', round(improvement_percentage,2), '%')"
   ]
  },
  {
   "cell_type": "code",
   "execution_count": 8,
   "metadata": {},
   "outputs": [
    {
     "data": {
      "text/plain": [
       "14.559299999999999"
      ]
     },
     "execution_count": 8,
     "metadata": {},
     "output_type": "execute_result"
    }
   ],
   "source": [
    "9*1.6177\n"
   ]
  },
  {
   "cell_type": "code",
   "execution_count": 6,
   "metadata": {},
   "outputs": [
    {
     "data": {
      "text/plain": [
       "2.6155447374069856"
      ]
     },
     "execution_count": 6,
     "metadata": {},
     "output_type": "execute_result"
    }
   ],
   "source": [
    "pandas_execution_time/polars_execution_time"
   ]
  },
  {
   "cell_type": "code",
   "execution_count": null,
   "metadata": {},
   "outputs": [],
   "source": []
  }
 ],
 "metadata": {
  "kernelspec": {
   "display_name": "salary",
   "language": "python",
   "name": "python3"
  },
  "language_info": {
   "codemirror_mode": {
    "name": "ipython",
    "version": 3
   },
   "file_extension": ".py",
   "mimetype": "text/x-python",
   "name": "python",
   "nbconvert_exporter": "python",
   "pygments_lexer": "ipython3",
   "version": "3.10.11"
  },
  "orig_nbformat": 4,
  "vscode": {
   "interpreter": {
    "hash": "6439a59ccbef1e798ba20dda1e08548cbec8bcaa5b2d23c548359dec22e90854"
   }
  }
 },
 "nbformat": 4,
 "nbformat_minor": 2
}
